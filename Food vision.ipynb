{
 "cells": [
  {
   "cell_type": "code",
   "execution_count": 3,
   "id": "41e74034-b32b-404f-872a-c702aff79d6c",
   "metadata": {},
   "outputs": [],
   "source": [
    "#Replication of https://github.com/mrdbourke/tensorflow-deep-learning/blob/main/07_food_vision_milestone_project_1.ipynb"
   ]
  },
  {
   "cell_type": "code",
   "execution_count": 1,
   "id": "e93062c5-f7bc-4c7f-af0f-2e19b6cbfb44",
   "metadata": {},
   "outputs": [
    {
     "name": "stdout",
     "output_type": "stream",
     "text": [
      "GPU 0: NVIDIA GeForce RTX 3060 (UUID: GPU-e8861a5c-89dd-5ee2-06b2-d3bca4ee7bc6)\n"
     ]
    }
   ],
   "source": [
    "# If using Google Colab, this should output \"Tesla T4\" otherwise, \n",
    "# you won't be able to use mixed precision training\n",
    "!nvidia-smi -L"
   ]
  },
  {
   "cell_type": "code",
   "execution_count": 2,
   "id": "a536cb8b-86cb-49bb-9ee9-b712ec11a400",
   "metadata": {},
   "outputs": [],
   "source": [
    "import tensorflow as tf"
   ]
  },
  {
   "cell_type": "code",
   "execution_count": 4,
   "id": "0f60139a-e274-4439-9e2e-2ef354c307bf",
   "metadata": {},
   "outputs": [
    {
     "name": "stderr",
     "output_type": "stream",
     "text": [
      "--2022-10-27 17:38:42--  https://raw.githubusercontent.com/mrdbourke/tensorflow-deep-learning/main/extras/helper_functions.py\n",
      "Resolving raw.githubusercontent.com (raw.githubusercontent.com)... 185.199.109.133, 185.199.111.133, 185.199.108.133, ...\n",
      "Connecting to raw.githubusercontent.com (raw.githubusercontent.com)|185.199.109.133|:443... connected.\n",
      "HTTP request sent, awaiting response... 200 OK\n",
      "Length: 10246 (10K) [text/plain]\n",
      "Saving to: 'helper_functions.py'\n",
      "\n",
      "     0K ..........                                            100% 3.48M=0.003s\n",
      "\n",
      "2022-10-27 17:38:42 (3.48 MB/s) - 'helper_functions.py' saved [10246/10246]\n",
      "\n"
     ]
    }
   ],
   "source": [
    "# Get helper functions file\n",
    "import os \n",
    "\n",
    "if not os.path.exists(\"helper_functions.py\"):\n",
    "    !wget https://raw.githubusercontent.com/mrdbourke/tensorflow-deep-learning/main/extras/helper_functions.py\n",
    "else:\n",
    "    print(\"[INFO] 'helper_functions.py' already exists, skipping download.\")"
   ]
  },
  {
   "cell_type": "code",
   "execution_count": 5,
   "id": "1f39ae46-88f7-4a72-9b17-470409657401",
   "metadata": {},
   "outputs": [],
   "source": [
    "# Import series of helper functions for the notebook (we've created/used these in previous notebooks)\n",
    "from helper_functions import create_tensorboard_callback, plot_loss_curves, compare_historys"
   ]
  },
  {
   "cell_type": "code",
   "execution_count": 7,
   "id": "a4decd61-ac7f-44bf-997f-0f43356770b4",
   "metadata": {},
   "outputs": [],
   "source": [
    "# Get TensorFlow Datasets\n",
    "import tensorflow_datasets as tfds"
   ]
  },
  {
   "cell_type": "code",
   "execution_count": 8,
   "id": "af04059d-55cb-48f4-bfa4-9e0ce4447a41",
   "metadata": {},
   "outputs": [
    {
     "name": "stdout",
     "output_type": "stream",
     "text": [
      "True\n"
     ]
    }
   ],
   "source": [
    "datasets_list = tfds.list_builders()\n",
    "print(\"food101\" in datasets_list)"
   ]
  },
  {
   "cell_type": "code",
   "execution_count": 9,
   "id": "846f3257-8661-491a-b1b9-4fbe89670a06",
   "metadata": {},
   "outputs": [
    {
     "name": "stdout",
     "output_type": "stream",
     "text": [
      "\u001b[1mDownloading and preparing dataset Unknown size (download: Unknown size, generated: Unknown size, total: Unknown size) to C:\\Users\\Juan\\tensorflow_datasets\\food101\\2.0.0...\u001b[0m\n"
     ]
    },
    {
     "data": {
      "application/vnd.jupyter.widget-view+json": {
       "model_id": "8478728f62b2477891b79629185ca3fd",
       "version_major": 2,
       "version_minor": 0
      },
      "text/plain": [
       "Dl Completed...: 0 url [00:00, ? url/s]"
      ]
     },
     "metadata": {},
     "output_type": "display_data"
    },
    {
     "data": {
      "application/vnd.jupyter.widget-view+json": {
       "model_id": "366c88dbed404711bd6e693a7ab79427",
       "version_major": 2,
       "version_minor": 0
      },
      "text/plain": [
       "Dl Size...: 0 MiB [00:00, ? MiB/s]"
      ]
     },
     "metadata": {},
     "output_type": "display_data"
    },
    {
     "data": {
      "application/vnd.jupyter.widget-view+json": {
       "model_id": "d8ae0d4d556f49458ec16318f4d2cf70",
       "version_major": 2,
       "version_minor": 0
      },
      "text/plain": [
       "Extraction completed...: 0 file [00:00, ? file/s]"
      ]
     },
     "metadata": {},
     "output_type": "display_data"
    },
    {
     "data": {
      "application/vnd.jupyter.widget-view+json": {
       "model_id": "",
       "version_major": 2,
       "version_minor": 0
      },
      "text/plain": [
       "Generating splits...:   0%|          | 0/2 [00:00<?, ? splits/s]"
      ]
     },
     "metadata": {},
     "output_type": "display_data"
    },
    {
     "data": {
      "application/vnd.jupyter.widget-view+json": {
       "model_id": "",
       "version_major": 2,
       "version_minor": 0
      },
      "text/plain": [
       "Generating train examples...: 0 examples [00:00, ? examples/s]"
      ]
     },
     "metadata": {},
     "output_type": "display_data"
    },
    {
     "data": {
      "application/vnd.jupyter.widget-view+json": {
       "model_id": "",
       "version_major": 2,
       "version_minor": 0
      },
      "text/plain": [
       "Shuffling C:\\Users\\Juan\\tensorflow_datasets\\food101\\2.0.0.incompleteOUBC3E\\food101-train.tfrecord*...:   0%|  …"
      ]
     },
     "metadata": {},
     "output_type": "display_data"
    },
    {
     "data": {
      "application/vnd.jupyter.widget-view+json": {
       "model_id": "",
       "version_major": 2,
       "version_minor": 0
      },
      "text/plain": [
       "Generating validation examples...: 0 examples [00:00, ? examples/s]"
      ]
     },
     "metadata": {},
     "output_type": "display_data"
    },
    {
     "data": {
      "application/vnd.jupyter.widget-view+json": {
       "model_id": "",
       "version_major": 2,
       "version_minor": 0
      },
      "text/plain": [
       "Shuffling C:\\Users\\Juan\\tensorflow_datasets\\food101\\2.0.0.incompleteOUBC3E\\food101-validation.tfrecord*...:   …"
      ]
     },
     "metadata": {},
     "output_type": "display_data"
    },
    {
     "name": "stdout",
     "output_type": "stream",
     "text": [
      "\u001b[1mDataset food101 downloaded and prepared to C:\\Users\\Juan\\tensorflow_datasets\\food101\\2.0.0. Subsequent calls will reuse this data.\u001b[0m\n"
     ]
    }
   ],
   "source": [
    "#load data\n",
    "(train_data, test_data), ds_info = tfds.load(name=\"food101\",\n",
    "                                             split=[\"train\", \"validation\"],\n",
    "                                             shuffle_files=True,\n",
    "                                             as_supervised=True,\n",
    "                                             with_info=True\n",
    ")"
   ]
  },
  {
   "cell_type": "code",
   "execution_count": 10,
   "id": "3f9546ae-4939-4cb4-9835-38416943a3ec",
   "metadata": {},
   "outputs": [
    {
     "data": {
      "text/plain": [
       "FeaturesDict({\n",
       "    'image': Image(shape=(None, None, 3), dtype=tf.uint8),\n",
       "    'label': ClassLabel(shape=(), dtype=tf.int64, num_classes=101),\n",
       "})"
      ]
     },
     "execution_count": 10,
     "metadata": {},
     "output_type": "execute_result"
    }
   ],
   "source": [
    "# Features of Food101 TFDS\n",
    "ds_info.features"
   ]
  },
  {
   "cell_type": "code",
   "execution_count": 11,
   "id": "a9769b9b-1e06-4187-93bb-80f3b3999b1b",
   "metadata": {},
   "outputs": [
    {
     "data": {
      "text/plain": [
       "['apple_pie',\n",
       " 'baby_back_ribs',\n",
       " 'baklava',\n",
       " 'beef_carpaccio',\n",
       " 'beef_tartare',\n",
       " 'beet_salad',\n",
       " 'beignets',\n",
       " 'bibimbap',\n",
       " 'bread_pudding',\n",
       " 'breakfast_burrito']"
      ]
     },
     "execution_count": 11,
     "metadata": {},
     "output_type": "execute_result"
    }
   ],
   "source": [
    "# Get class names\n",
    "class_names = ds_info.features[\"label\"].names\n",
    "class_names[:10]"
   ]
  },
  {
   "cell_type": "code",
   "execution_count": 12,
   "id": "94c4e5c3-6510-4877-99d3-16caa6cde361",
   "metadata": {},
   "outputs": [],
   "source": [
    "# Take one sample off the training data\n",
    "train_one_sample = train_data.take(1) # samples are in format (image_tensor, label)"
   ]
  },
  {
   "cell_type": "code",
   "execution_count": 13,
   "id": "2148a370-466d-4218-ab6d-4e4f4d1f3197",
   "metadata": {},
   "outputs": [
    {
     "data": {
      "text/plain": [
       "<TakeDataset element_spec=(TensorSpec(shape=(None, None, 3), dtype=tf.uint8, name=None), TensorSpec(shape=(), dtype=tf.int64, name=None))>"
      ]
     },
     "execution_count": 13,
     "metadata": {},
     "output_type": "execute_result"
    }
   ],
   "source": [
    "# What does one sample of our training data look like?\n",
    "train_one_sample"
   ]
  },
  {
   "cell_type": "code",
   "execution_count": 26,
   "id": "2a3819b1-1472-4bec-9be6-2ad5a8d86ade",
   "metadata": {},
   "outputs": [
    {
     "name": "stdout",
     "output_type": "stream",
     "text": [
      "\n",
      "    Image shape: (512, 512, 3)\n",
      "    Image dtype: <dtype: 'uint8'>\n",
      "    Target class from Food101 (tensor form): 23\n",
      "    Class name (str form): churros\n",
      "          \n"
     ]
    }
   ],
   "source": [
    "# Output info about our training sample\n",
    "for image, label in train_one_sample:\n",
    "    print(f\"\"\"\n",
    "    Image shape: {image.shape}\n",
    "    Image dtype: {image.dtype}\n",
    "    Target class from Food101 (tensor form): {label}\n",
    "    Class name (str form): {class_names[label.numpy()]}\n",
    "          \"\"\")"
   ]
  },
  {
   "cell_type": "code",
   "execution_count": 27,
   "id": "80340be9-13ba-481c-81bf-d7a791e49e9a",
   "metadata": {},
   "outputs": [
    {
     "data": {
      "text/plain": [
       "<tf.Tensor: shape=(512, 512, 3), dtype=uint8, numpy=\n",
       "array([[[189, 165, 121],\n",
       "        [185, 161, 117],\n",
       "        [181, 157, 113],\n",
       "        ...,\n",
       "        [111,  72,  33],\n",
       "        [103,  64,  25],\n",
       "        [ 94,  55,  16]],\n",
       "\n",
       "       [[186, 162, 118],\n",
       "        [183, 159, 115],\n",
       "        [180, 156, 112],\n",
       "        ...,\n",
       "        [122,  83,  40],\n",
       "        [113,  74,  31],\n",
       "        [105,  66,  23]],\n",
       "\n",
       "       [[180, 156, 112],\n",
       "        [178, 154, 110],\n",
       "        [177, 153, 109],\n",
       "        ...,\n",
       "        [132,  94,  45],\n",
       "        [124,  87,  35],\n",
       "        [120,  83,  31]],\n",
       "\n",
       "       ...,\n",
       "\n",
       "       [[207, 204, 159],\n",
       "        [205, 201, 154],\n",
       "        [204, 196, 147],\n",
       "        ...,\n",
       "        [231, 225, 191],\n",
       "        [231, 225, 189],\n",
       "        [231, 226, 188]],\n",
       "\n",
       "       [[207, 204, 159],\n",
       "        [205, 201, 154],\n",
       "        [204, 196, 147],\n",
       "        ...,\n",
       "        [230, 224, 190],\n",
       "        [230, 224, 188],\n",
       "        [229, 223, 187]],\n",
       "\n",
       "       [[206, 203, 158],\n",
       "        [204, 200, 153],\n",
       "        [203, 195, 146],\n",
       "        ...,\n",
       "        [229, 223, 189],\n",
       "        [228, 222, 186],\n",
       "        [228, 222, 186]]], dtype=uint8)>"
      ]
     },
     "execution_count": 27,
     "metadata": {},
     "output_type": "execute_result"
    }
   ],
   "source": [
    "# What does an image tensor from TFDS's Food101 look like?\n",
    "image"
   ]
  },
  {
   "cell_type": "code",
   "execution_count": 28,
   "id": "9d6708cb-dd96-4ecc-bef8-516466e62eb4",
   "metadata": {},
   "outputs": [
    {
     "data": {
      "text/plain": [
       "(<function tensorflow.python.ops.math_ops.reduce_min(input_tensor, axis=None, keepdims=False, name=None)>,\n",
       " <tf.Tensor: shape=(), dtype=uint8, numpy=255>)"
      ]
     },
     "execution_count": 28,
     "metadata": {},
     "output_type": "execute_result"
    }
   ],
   "source": [
    "tf.reduce_min, tf.reduce_max(image)"
   ]
  },
  {
   "cell_type": "code",
   "execution_count": 33,
   "id": "b17c01be-d327-4e3f-a02a-1c3e3290c05f",
   "metadata": {},
   "outputs": [
    {
     "data": {
      "image/png": "[encoded data removed]",
      "text/plain": [
       "<Figure size 432x288 with 1 Axes>"
      ]
     },
     "metadata": {
      "needs_background": "light"
     },
     "output_type": "display_data"
    }
   ],
   "source": [
    "import matplotlib.pyplot as plt\n",
    "plt.imshow(image) \n",
    "plt.title(class_names[label.numpy()])\n",
    "plt.axis(False);"
   ]
  },
  {
   "cell_type": "code",
   "execution_count": 34,
   "id": "aedcccf7-00fd-4698-ac2c-6a9c1e2fccff",
   "metadata": {},
   "outputs": [],
   "source": [
    "def preprocess_img(image, label, img_shape=224):\n",
    "    image= tf.image.resize(image, [img_shape, img_shape])\n",
    "    return tf.cast(image, tf.float32), label"
   ]
  },
  {
   "cell_type": "code",
   "execution_count": 35,
   "id": "c424675f-6f43-47be-ab78-7bed018fdcaa",
   "metadata": {},
   "outputs": [
    {
     "name": "stdout",
     "output_type": "stream",
     "text": [
      "Image before:\n",
      " [[[189 165 121]\n",
      "  [185 161 117]\n",
      "  [181 157 113]\n",
      "  ...\n",
      "  [111  72  33]\n",
      "  [103  64  25]\n",
      "  [ 94  55  16]]\n",
      "\n",
      " [[186 162 118]\n",
      "  [183 159 115]\n",
      "  [180 156 112]\n",
      "  ...\n",
      "  [122  83  40]\n",
      "  [113  74  31]\n",
      "  [105  66  23]]]...,\n",
      "Shape: (512, 512, 3), \n",
      "Datatype: <dtype: 'uint8'>\n",
      "Image after preprocessing:\n",
      " [[[184.91327  160.91327  116.91326 ]\n",
      "  [180.35715  156.35715  112.35714 ]\n",
      "  [183.71428  160.71428  118.71429 ]\n",
      "  ...\n",
      "  [147.5915   108.66289   69.08129 ]\n",
      "  [123.576454  84.576454  44.198887]\n",
      "  [106.44359   67.44359   25.872158]]\n",
      "\n",
      " [[174.66837  150.66837  106.668365]\n",
      "  [175.14285  151.14285  107.14286 ]\n",
      "  [177.80103  153.22958  112.015305]\n",
      "  ...\n",
      "  [155.61722  119.545784  68.443695]\n",
      "  [145.1989   108.19381   53.423363]\n",
      "  [134.37747   98.30605   40.73462 ]]]...,\n",
      "Shape: (224, 224, 3),\n",
      "Datatype: <dtype: 'float32'>\n"
     ]
    }
   ],
   "source": [
    "preprocessed_img = preprocess_img(image, label)[0]\n",
    "print(f\"Image before:\\n {image[:2]}...,\\nShape: {image.shape}, \\nDatatype: {image.dtype}\")\n",
    "print(f\"Image after preprocessing:\\n {preprocessed_img[:2]}...,\\nShape: {preprocessed_img.shape},\\nDatatype: {preprocessed_img.dtype}\")\n"
   ]
  },
  {
   "cell_type": "code",
   "execution_count": 38,
   "id": "c60d7109-34b1-4348-9450-d2b6531711af",
   "metadata": {},
   "outputs": [
    {
     "data": {
      "image/png": "[encoded data removed]",
      "text/plain": [
       "<Figure size 432x288 with 1 Axes>"
      ]
     },
     "metadata": {
      "needs_background": "light"
     },
     "output_type": "display_data"
    }
   ],
   "source": [
    "# We can still plot our preprocessed image as long as we \n",
    "# divide by 255 (for matplotlib capatibility)\n",
    "plt.imshow(preprocessed_img/255.)\n",
    "plt.title(class_names[label])\n",
    "plt.axis(False);"
   ]
  },
  {
   "cell_type": "code",
   "execution_count": 39,
   "id": "b81c1ae7-1909-48a1-ab72-ad219bf922ec",
   "metadata": {},
   "outputs": [],
   "source": [
    "# Map preprocessing function to training data (and paralellize)\n",
    "train_data = train_data.map(map_func=preprocess_img, num_parallel_calls=tf.data.AUTOTUNE)\n",
    "\n",
    "# Shuffle train_data and turn it into batches and prefetch it (load it faster)\n",
    "train_data = train_data.shuffle(buffer_size=1000).batch(batch_size=32).prefetch(buffer_size=tf.data.AUTOTUNE)\n",
    "\n",
    "# Map prepreprocessing function to test data\n",
    "test_data = test_data.map(preprocess_img, num_parallel_calls=tf.data.AUTOTUNE)\n",
    "\n",
    "# Turn test data into batches (don't need to shuffle)\n",
    "test_data = test_data.batch(32).prefetch(tf.data.AUTOTUNE)"
   ]
  },
  {
   "cell_type": "code",
   "execution_count": 40,
   "id": "05798e86-fe78-4672-9563-f33b5e166b8e",
   "metadata": {},
   "outputs": [
    {
     "data": {
      "text/plain": [
       "(<PrefetchDataset element_spec=(TensorSpec(shape=(None, 224, 224, 3), dtype=tf.float32, name=None), TensorSpec(shape=(None,), dtype=tf.int64, name=None))>,\n",
       " <PrefetchDataset element_spec=(TensorSpec(shape=(None, 224, 224, 3), dtype=tf.float32, name=None), TensorSpec(shape=(None,), dtype=tf.int64, name=None))>)"
      ]
     },
     "execution_count": 40,
     "metadata": {},
     "output_type": "execute_result"
    }
   ],
   "source": [
    "train_data, test_data"
   ]
  },
  {
   "cell_type": "code",
   "execution_count": 41,
   "id": "82209b8e-8cff-4fc0-ba8b-98de1b1e8d67",
   "metadata": {},
   "outputs": [],
   "source": [
    "from helper_functions import create_tensorboard_callback\n",
    "\n",
    "checkpoint_path = \"model_checkpoints/cp.ckpt\"\n",
    "model_checkpoint = tf.keras.callbacks.ModelCheckpoint(checkpoint_path,\n",
    "                                                      monitor='val_accuracy',\n",
    "                                                      save_best_only=True,\n",
    "                                                      save_weights_only=True,\n",
    "                                                      verbose=0\n",
    "                                                     )\n"
   ]
  },
  {
   "cell_type": "code",
   "execution_count": 42,
   "id": "8efa1c87-1bc3-4b2f-9a46-336bc9838887",
   "metadata": {},
   "outputs": [
    {
     "name": "stdout",
     "output_type": "stream",
     "text": [
      "INFO:tensorflow:Mixed precision compatibility check (mixed_float16): OK\n",
      "Your GPU will likely run quickly with dtype policy mixed_float16 as it has compute capability of at least 7.0. Your GPU: NVIDIA GeForce RTX 3060, compute capability 8.6\n"
     ]
    },
    {
     "name": "stderr",
     "output_type": "stream",
     "text": [
      "INFO:tensorflow:Mixed precision compatibility check (mixed_float16): OK\n",
      "Your GPU will likely run quickly with dtype policy mixed_float16 as it has compute capability of at least 7.0. Your GPU: NVIDIA GeForce RTX 3060, compute capability 8.6\n"
     ]
    }
   ],
   "source": [
    "from tensorflow.keras import mixed_precision\n",
    "\n",
    "mixed_precision.set_global_policy(policy='mixed_float16')"
   ]
  },
  {
   "cell_type": "code",
   "execution_count": 43,
   "id": "89efef60-2fe6-4464-bb9b-e714df0d761e",
   "metadata": {},
   "outputs": [
    {
     "data": {
      "text/plain": [
       "<Policy \"mixed_float16\">"
      ]
     },
     "execution_count": 43,
     "metadata": {},
     "output_type": "execute_result"
    }
   ],
   "source": [
    "mixed_precision.global_policy() # should output \"mixed_float16\" (if your GPU is compatible with mixed precision)\n"
   ]
  },
  {
   "cell_type": "code",
   "execution_count": 45,
   "id": "14843a52-be6c-454e-b5a5-c4bc007c5eed",
   "metadata": {},
   "outputs": [],
   "source": [
    "from tensorflow.keras import layers\n",
    "\n",
    "input_shape = (224, 224, 3)\n",
    "base_model = tf.keras.applications.EfficientNetB0(include_top = False)\n",
    "base_model.trainable = False\n",
    "\n",
    "inputs = layers.Input(shape=input_shape, name='input_layer')# EfficientNetBX already has rescaling\n",
    "#x = layers.Rescaling(1. / 255)(x)\n",
    "x = base_model(inputs, training=False)\n",
    "x = layers.GlobalAveragePooling2D(name='pooling_layer')(x)\n",
    "x = layers.Dense(len(class_names))(x)\n",
    "outputs = layers.Activation('softmax', dtype=tf.float32, name='softmax_float32')(x)\n",
    "model = tf.keras.Model(inputs, outputs)\n",
    "\n",
    "model.compile(loss='sparse_categorical_crossentropy',\n",
    "              optimizer=tf.keras.optimizers.Adam(),\n",
    "              metrics=['accuracy']\n",
    ")"
   ]
  },
  {
   "cell_type": "code",
   "execution_count": 46,
   "id": "0e055e6b-ec77-4bd1-92c5-dfe1f452566b",
   "metadata": {},
   "outputs": [
    {
     "name": "stdout",
     "output_type": "stream",
     "text": [
      "Model: \"model\"\n",
      "_________________________________________________________________\n",
      " Layer (type)                Output Shape              Param #   \n",
      "=================================================================\n",
      " input_layer (InputLayer)    [(None, 224, 224, 3)]     0         \n",
      "                                                                 \n",
      " efficientnetb0 (Functional)  (None, None, None, 1280)  4049571  \n",
      "                                                                 \n",
      " pooling_layer (GlobalAverag  (None, 1280)             0         \n",
      " ePooling2D)                                                     \n",
      "                                                                 \n",
      " dense_1 (Dense)             (None, 101)               129381    \n",
      "                                                                 \n",
      " softmax_float32 (Activation  (None, 101)              0         \n",
      " )                                                               \n",
      "                                                                 \n",
      "=================================================================\n",
      "Total params: 4,178,952\n",
      "Trainable params: 129,381\n",
      "Non-trainable params: 4,049,571\n",
      "_________________________________________________________________\n"
     ]
    }
   ],
   "source": [
    "model.summary()"
   ]
  },
  {
   "cell_type": "code",
   "execution_count": 47,
   "id": "a3591646-67dc-4565-84a6-2e7ad40c7e11",
   "metadata": {},
   "outputs": [
    {
     "name": "stdout",
     "output_type": "stream",
     "text": [
      "input_layer True float32 <Policy \"float32\">\n",
      "efficientnetb0 False float32 <Policy \"mixed_float16\">\n",
      "pooling_layer True float32 <Policy \"mixed_float16\">\n",
      "dense_1 True float32 <Policy \"mixed_float16\">\n",
      "softmax_float32 True float32 <Policy \"float32\">\n"
     ]
    }
   ],
   "source": [
    "# Check the dtype_policy attributes of layers in our model\n",
    "for layer in model.layers:\n",
    "    print(layer.name, layer.trainable, layer.dtype, layer.dtype_policy)"
   ]
  },
  {
   "cell_type": "code",
   "execution_count": 48,
   "id": "5db6457a-b41a-489c-83b4-22ba68fb5a0f",
   "metadata": {},
   "outputs": [
    {
     "name": "stdout",
     "output_type": "stream",
     "text": [
      "input_2 False float32 <Policy \"float32\">\n",
      "rescaling_2 False float32 <Policy \"mixed_float16\">\n",
      "normalization_1 False float32 <Policy \"mixed_float16\">\n",
      "rescaling_3 False float32 <Policy \"mixed_float16\">\n",
      "stem_conv_pad False float32 <Policy \"mixed_float16\">\n",
      "stem_conv False float32 <Policy \"mixed_float16\">\n",
      "stem_bn False float32 <Policy \"mixed_float16\">\n",
      "stem_activation False float32 <Policy \"mixed_float16\">\n",
      "block1a_dwconv False float32 <Policy \"mixed_float16\">\n",
      "block1a_bn False float32 <Policy \"mixed_float16\">\n",
      "block1a_activation False float32 <Policy \"mixed_float16\">\n",
      "block1a_se_squeeze False float32 <Policy \"mixed_float16\">\n",
      "block1a_se_reshape False float32 <Policy \"mixed_float16\">\n",
      "block1a_se_reduce False float32 <Policy \"mixed_float16\">\n",
      "block1a_se_expand False float32 <Policy \"mixed_float16\">\n",
      "block1a_se_excite False float32 <Policy \"mixed_float16\">\n",
      "block1a_project_conv False float32 <Policy \"mixed_float16\">\n",
      "block1a_project_bn False float32 <Policy \"mixed_float16\">\n",
      "block2a_expand_conv False float32 <Policy \"mixed_float16\">\n",
      "block2a_expand_bn False float32 <Policy \"mixed_float16\">\n"
     ]
    }
   ],
   "source": [
    "for layer in model.layers[1].layers[:20]: # only check the first 20 layers to save output space\n",
    "    print(layer.name, layer.trainable, layer.dtype, layer.dtype_policy)"
   ]
  },
  {
   "cell_type": "code",
   "execution_count": 49,
   "id": "69a8050b-0b36-45b6-a41f-a3f47af3ea32",
   "metadata": {},
   "outputs": [
    {
     "name": "stdout",
     "output_type": "stream",
     "text": [
      "Saving TensorBoard log files to: training_logs/efficientnetb0_101_classes_all_data_feature_extract/20221027-202139\n",
      "Epoch 1/3\n",
      "2368/2368 [==============================] - 112s 43ms/step - loss: 1.7162 - accuracy: 0.5824 - val_loss: 1.1292 - val_accuracy: 0.6957\n",
      "Epoch 2/3\n",
      "2368/2368 [==============================] - 100s 42ms/step - loss: 1.1986 - accuracy: 0.6898 - val_loss: 1.0318 - val_accuracy: 0.7217\n",
      "Epoch 3/3\n",
      "2368/2368 [==============================] - 100s 42ms/step - loss: 1.0540 - accuracy: 0.7230 - val_loss: 0.9959 - val_accuracy: 0.7304\n"
     ]
    }
   ],
   "source": [
    "tf.get_logger().setLevel('ERROR')\n",
    "\n",
    "history_101_food_classes_feature_extract = model.fit(train_data,\n",
    "                                                     epochs=3,\n",
    "                                                     steps_per_epoch=len(train_data),\n",
    "                                                     validation_data=test_data,\n",
    "                                                     validation_steps=int(0.15 * len(test_data)),\n",
    "                                                     callbacks=[create_tensorboard_callback(\"training_logs\",\n",
    "                                                                                           \"efficientnetb0_101_classes_all_data_feature_extract\"),\n",
    "                                                               model_checkpoint]\n",
    "                                                    )"
   ]
  },
  {
   "cell_type": "code",
   "execution_count": 50,
   "id": "3781c61e-fa9e-40df-a4c4-094ebfdefb6c",
   "metadata": {},
   "outputs": [
    {
     "name": "stdout",
     "output_type": "stream",
     "text": [
      "790/790 [==============================] - 27s 34ms/step - loss: 0.9991 - accuracy: 0.7294\n"
     ]
    },
    {
     "data": {
      "text/plain": [
       "[0.999099850654602, 0.7293861508369446]"
      ]
     },
     "execution_count": 50,
     "metadata": {},
     "output_type": "execute_result"
    }
   ],
   "source": [
    "results_feature_extract_model = model.evaluate(test_data)\n",
    "results_feature_extract_model"
   ]
  },
  {
   "cell_type": "code",
   "execution_count": 51,
   "id": "9d652f4e-3433-4cbd-aea1-de6ed9e1323a",
   "metadata": {},
   "outputs": [
    {
     "name": "stdout",
     "output_type": "stream",
     "text": [
      "Model: \"model\"\n",
      "_________________________________________________________________\n",
      " Layer (type)                Output Shape              Param #   \n",
      "=================================================================\n",
      " input_layer (InputLayer)    [(None, 224, 224, 3)]     0         \n",
      "                                                                 \n",
      " efficientnetb0 (Functional)  (None, None, None, 1280)  4049571  \n",
      "                                                                 \n",
      " pooling_layer (GlobalAverag  (None, 1280)             0         \n",
      " ePooling2D)                                                     \n",
      "                                                                 \n",
      " dense_1 (Dense)             (None, 101)               129381    \n",
      "                                                                 \n",
      " softmax_float32 (Activation  (None, 101)              0         \n",
      " )                                                               \n",
      "                                                                 \n",
      "=================================================================\n",
      "Total params: 4,178,952\n",
      "Trainable params: 129,381\n",
      "Non-trainable params: 4,049,571\n",
      "_________________________________________________________________\n"
     ]
    }
   ],
   "source": [
    "cloned_model = tf.keras.models.clone_model(model)# resets weights\n",
    "cloned_model.summary()"
   ]
  },
  {
   "cell_type": "code",
   "execution_count": 52,
   "id": "58515b4b-da84-492e-bd4c-64ad1f0f9efd",
   "metadata": {},
   "outputs": [
    {
     "data": {
      "text/plain": [
       "'model_checkpoints/cp.ckpt'"
      ]
     },
     "execution_count": 52,
     "metadata": {},
     "output_type": "execute_result"
    }
   ],
   "source": [
    "# Where are our checkpoints stored?\n",
    "checkpoint_path"
   ]
  },
  {
   "cell_type": "code",
   "execution_count": 54,
   "id": "3e08cea1-7a31-4c00-819f-8d6d9e9e914f",
   "metadata": {},
   "outputs": [
    {
     "data": {
      "text/plain": [
       "<tensorflow.python.checkpoint.checkpoint.CheckpointLoadStatus at 0x19b1ca419d0>"
      ]
     },
     "execution_count": 54,
     "metadata": {},
     "output_type": "execute_result"
    }
   ],
   "source": [
    "# Load checkpointed weights into cloned_model\n",
    "cloned_model.load_weights(checkpoint_path)"
   ]
  },
  {
   "cell_type": "code",
   "execution_count": 55,
   "id": "f0e8d6a0-3d93-43cb-8212-4fc4106b326a",
   "metadata": {},
   "outputs": [],
   "source": [
    "#recompile cloned model\n",
    "cloned_model.compile(loss='sparse_categorical_crossentropy',\n",
    "                    optimizer=tf.keras.optimizers.Adam(),\n",
    "                     metrics=['accuracy']\n",
    "                    )"
   ]
  },
  {
   "cell_type": "code",
   "execution_count": 58,
   "id": "ee6da34f-3e14-4932-af51-412512c8d6cc",
   "metadata": {},
   "outputs": [
    {
     "name": "stdout",
     "output_type": "stream",
     "text": [
      "790/790 [==============================] - 32s 36ms/step - loss: 1.3756 - accuracy: 0.6324\n"
     ]
    }
   ],
   "source": [
    "results_cloned_model_with_loaded_weights = cloned_model.evaluate(test_data)"
   ]
  },
  {
   "cell_type": "code",
   "execution_count": 59,
   "id": "f581e64f-6be7-4836-9f39-898ac2b7acd3",
   "metadata": {
    "collapsed": true,
    "jupyter": {
     "outputs_hidden": true
    },
    "tags": []
   },
   "outputs": [
    {
     "name": "stderr",
     "output_type": "stream",
     "text": [
      "--2022-10-28 11:33:35--  https://storage.googleapis.com/ztm_tf_course/food_vision/07_efficientnetb0_feature_extract_model_mixed_precision.zip\n",
      "Resolving storage.googleapis.com (storage.googleapis.com)... 64.233.166.128, 74.125.133.128, 74.125.140.128, ...\n",
      "Connecting to storage.googleapis.com (storage.googleapis.com)|64.233.166.128|:443... connected.\n",
      "HTTP request sent, awaiting response... 200 OK\n",
      "Length: 16976857 (16M) [application/zip]\n",
      "Saving to: '07_efficientnetb0_feature_extract_model_mixed_precision.zip'\n",
      "\n",
      "     0K .......... .......... .......... .......... ..........  0% 1.42M 11s\n",
      "    50K .......... .......... .......... .......... ..........  0% 3.12M 8s\n",
      "   100K .......... .......... .......... .......... ..........  0% 5.21M 7s\n",
      "   150K .......... .......... .......... .......... ..........  1% 6.72M 5s\n",
      "   200K .......... .......... .......... .......... ..........  1% 9.85M 5s\n",
      "   250K .......... .......... .......... .......... ..........  1% 11.5M 4s\n",
      "   300K .......... .......... .......... .......... ..........  2% 15.7M 4s\n",
      "   350K .......... .......... .......... .......... ..........  2% 14.8M 3s\n",
      "   400K .......... .......... .......... .......... ..........  2% 14.5M 3s\n",
      "   450K .......... .......... .......... .......... ..........  3% 36.1M 3s\n",
      "   500K .......... .......... .......... .......... ..........  3% 12.2M 3s\n",
      "   550K .......... .......... .......... .......... ..........  3% 10.8M 3s\n",
      "   600K .......... .......... .......... .......... ..........  3% 39.6M 2s\n",
      "   650K .......... .......... .......... .......... ..........  4% 18.2M 2s\n",
      "   700K .......... .......... .......... .......... ..........  4% 14.9M 2s\n",
      "   750K .......... .......... .......... .......... ..........  4% 16.7M 2s\n",
      "   800K .......... .......... .......... .......... ..........  5% 16.4M 2s\n",
      "   850K .......... .......... .......... .......... ..........  5% 15.3M 2s\n",
      "   900K .......... .......... .......... .......... ..........  5% 16.8M 2s\n",
      "   950K .......... .......... .......... .......... ..........  6% 16.7M 2s\n",
      "  1000K .......... .......... .......... .......... ..........  6% 15.7M 2s\n",
      "  1050K .......... .......... .......... .......... ..........  6% 15.7M 2s\n",
      "  1100K .......... .......... .......... .......... ..........  6% 16.7M 2s\n",
      "  1150K .......... .......... .......... .......... ..........  7% 12.5M 2s\n",
      "  1200K .......... .......... .......... .......... ..........  7% 18.1M 2s\n",
      "  1250K .......... .......... .......... .......... ..........  7% 17.1M 2s\n",
      "  1300K .......... .......... .......... .......... ..........  8% 17.8M 2s\n",
      "  1350K .......... .......... .......... .......... ..........  8% 16.5M 2s\n",
      "  1400K .......... .......... .......... .......... ..........  8% 16.8M 2s\n",
      "  1450K .......... .......... .......... .......... ..........  9% 17.8M 1s\n",
      "  1500K .......... .......... .......... .......... ..........  9% 16.4M 1s\n",
      "  1550K .......... .......... .......... .......... ..........  9% 6.23M 1s\n",
      "  1600K .......... .......... .......... .......... ..........  9%  472M 1s\n",
      "  1650K .......... .......... .......... .......... .......... 10% 31.2M 1s\n",
      "  1700K .......... .......... .......... .......... .......... 10% 17.5M 1s\n",
      "  1750K .......... .......... .......... .......... .......... 10% 16.6M 1s\n",
      "  1800K .......... .......... .......... .......... .......... 11% 2.27M 1s\n",
      "  1850K .......... .......... .......... .......... .......... 11% 3.14M 2s\n",
      "  1900K .......... .......... .......... .......... .......... 11%  285M 2s\n",
      "  1950K .......... .......... .......... .......... .......... 12%  207M 1s\n",
      "  2000K .......... .......... .......... .......... .......... 12%  476M 1s\n",
      "  2050K .......... .......... .......... .......... .......... 12%  280M 1s\n",
      "  2100K .......... .......... .......... .......... .......... 12%  440M 1s\n",
      "  2150K .......... .......... .......... .......... .......... 13%  229M 1s\n",
      "  2200K .......... .......... .......... .......... .......... 13%  294M 1s\n",
      "  2250K .......... .......... .......... .......... .......... 13%  644M 1s\n",
      "  2300K .......... .......... .......... .......... .......... 14%  373M 1s\n",
      "  2350K .......... .......... .......... .......... .......... 14%  210M 1s\n",
      "  2400K .......... .......... .......... .......... .......... 14% 21.2M 1s\n",
      "  2450K .......... .......... .......... .......... .......... 15% 16.9M 1s\n",
      "  2500K .......... .......... .......... .......... .......... 15% 16.8M 1s\n",
      "  2550K .......... .......... .......... .......... .......... 15% 17.9M 1s\n",
      "  2600K .......... .......... .......... .......... .......... 15% 16.9M 1s\n",
      "  2650K .......... .......... .......... .......... .......... 16% 12.8M 1s\n",
      "  2700K .......... .......... .......... .......... .......... 16% 17.5M 1s\n",
      "  2750K .......... .......... .......... .......... .......... 16% 12.2M 1s\n",
      "  2800K .......... .......... .......... .......... .......... 17% 18.0M 1s\n",
      "  2850K .......... .......... .......... .......... .......... 17% 17.9M 1s\n",
      "  2900K .......... .......... .......... .......... .......... 17% 15.8M 1s\n",
      "  2950K .......... .......... .......... .......... .......... 18% 18.1M 1s\n",
      "  3000K .......... .......... .......... .......... .......... 18% 15.8M 1s\n",
      "  3050K .......... .......... .......... .......... .......... 18% 18.1M 1s\n",
      "  3100K .......... .......... .......... .......... .......... 18% 17.0M 1s\n",
      "  3150K .......... .......... .......... .......... .......... 19% 12.5M 1s\n",
      "  3200K .......... .......... .......... .......... .......... 19% 18.2M 1s\n",
      "  3250K .......... .......... .......... .......... .......... 19% 16.6M 1s\n",
      "  3300K .......... .......... .......... .......... .......... 20% 1.38M 1s\n",
      "  3350K .......... .......... .......... .......... .......... 20%  233M 1s\n",
      "  3400K .......... .......... .......... .......... .......... 20%  222M 1s\n",
      "  3450K .......... .......... .......... .......... .......... 21%  206M 1s\n",
      "  3500K .......... .......... .......... .......... .......... 21%  470M 1s\n",
      "  3550K .......... .......... .......... .......... .......... 21%  245M 1s\n",
      "  3600K .......... .......... .......... .......... .......... 22%  629M 1s\n",
      "  3650K .......... .......... .......... .......... .......... 22%  404M 1s\n",
      "  3700K .......... .......... .......... .......... .......... 22%  636M 1s\n",
      "  3750K .......... .......... .......... .......... .......... 22%  352M 1s\n",
      "  3800K .......... .......... .......... .......... .......... 23%  384M 1s\n",
      "  3850K .......... .......... .......... .......... .......... 23%  610M 1s\n",
      "  3900K .......... .......... .......... .......... .......... 23% 25.9M 1s\n",
      "  3950K .......... .......... .......... .......... .......... 24% 12.2M 1s\n",
      "  4000K .......... .......... .......... .......... .......... 24% 17.0M 1s\n",
      "  4050K .......... .......... .......... .......... .......... 24% 17.8M 1s\n",
      "  4100K .......... .......... .......... .......... .......... 25% 17.0M 1s\n",
      "  4150K .......... .......... .......... .......... .......... 25% 16.9M 1s\n",
      "  4200K .......... .......... .......... .......... .......... 25% 17.0M 1s\n",
      "  4250K .......... .......... .......... .......... .......... 25% 16.9M 1s\n",
      "  4300K .......... .......... .......... .......... .......... 26% 17.0M 1s\n",
      "  4350K .......... .......... .......... .......... .......... 26% 14.7M 1s\n",
      "  4400K .......... .......... .......... .......... .......... 26% 13.2M 1s\n",
      "  4450K .......... .......... .......... .......... .......... 27% 16.5M 1s\n",
      "  4500K .......... .......... .......... .......... .......... 27% 16.8M 1s\n",
      "  4550K .......... .......... .......... .......... .......... 27% 17.0M 1s\n",
      "  4600K .......... .......... .......... .......... .......... 28% 16.6M 1s\n",
      "  4650K .......... .......... .......... .......... .......... 28% 18.3M 1s\n",
      "  4700K .......... .......... .......... .......... .......... 28% 15.8M 1s\n",
      "  4750K .......... .......... .......... .......... .......... 28% 18.1M 1s\n",
      "  4800K .......... .......... .......... .......... .......... 29% 12.5M 1s\n",
      "  4850K .......... .......... .......... .......... .......... 29% 18.2M 1s\n",
      "  4900K .......... .......... .......... .......... .......... 29% 15.9M 1s\n",
      "  4950K .......... .......... .......... .......... .......... 30% 18.3M 1s\n",
      "  5000K .......... .......... .......... .......... .......... 30% 16.8M 1s\n",
      "  5050K .......... .......... .......... .......... .......... 30% 17.2M 1s\n",
      "  5100K .......... .......... .......... .......... .......... 31% 15.6M 1s\n",
      "  5150K .......... .......... .......... .......... .......... 31% 14.6M 1s\n",
      "  5200K .......... .......... .......... .......... .......... 31% 13.3M 1s\n",
      "  5250K .......... .......... .......... .......... .......... 31% 16.4M 1s\n",
      "  5300K .......... .......... .......... .......... .......... 32% 17.9M 1s\n",
      "  5350K .......... .......... .......... .......... .......... 32% 16.7M 1s\n",
      "  5400K .......... .......... .......... .......... .......... 32% 17.0M 1s\n",
      "  5450K .......... .......... .......... .......... .......... 33% 16.8M 1s\n",
      "  5500K .......... .......... .......... .......... .......... 33% 16.8M 1s\n",
      "  5550K .......... .......... .......... .......... .......... 33% 16.5M 1s\n",
      "  5600K .......... .......... .......... .......... .......... 34% 13.6M 1s\n",
      "  5650K .......... .......... .......... .......... .......... 34% 16.9M 1s\n",
      "  5700K .......... .......... .......... .......... .......... 34% 14.0M 1s\n",
      "  5750K .......... .......... .......... .......... .......... 34% 17.1M 1s\n",
      "  5800K .......... .......... .......... .......... .......... 35% 16.8M 1s\n",
      "  5850K .......... .......... .......... .......... .......... 35% 17.0M 1s\n",
      "  5900K .......... .......... .......... .......... .......... 35% 16.9M 1s\n",
      "  5950K .......... .......... .......... .......... .......... 36% 16.8M 1s\n",
      "  6000K .......... .......... .......... .......... .......... 36% 12.7M 1s\n",
      "  6050K .......... .......... .......... .......... .......... 36% 17.7M 1s\n",
      "  6100K .......... .......... .......... .......... .......... 37% 16.7M 1s\n",
      "  6150K .......... .......... .......... .......... .......... 37% 17.0M 1s\n",
      "  6200K .......... .......... .......... .......... .......... 37% 18.1M 1s\n",
      "  6250K .......... .......... .......... .......... .......... 37% 16.6M 1s\n",
      "  6300K .......... .......... .......... .......... .......... 38% 17.2M 1s\n",
      "  6350K .......... .......... .......... .......... .......... 38% 17.2M 1s\n",
      "  6400K .......... .......... .......... .......... .......... 38% 12.6M 1s\n",
      "  6450K .......... .......... .......... .......... .......... 39% 17.9M 1s\n",
      "  6500K .......... .......... .......... .......... .......... 39% 16.9M 1s\n",
      "  6550K .......... .......... .......... .......... .......... 39% 14.2M 1s\n",
      "  6600K .......... .......... .......... .......... .......... 40% 16.9M 1s\n",
      "  6650K .......... .......... .......... .......... .......... 40% 16.9M 1s\n",
      "  6700K .......... .......... .......... .......... .......... 40% 16.7M 1s\n",
      "  6750K .......... .......... .......... .......... .......... 41% 16.9M 1s\n",
      "  6800K .......... .......... .......... .......... .......... 41% 13.2M 1s\n",
      "  6850K .......... .......... .......... .......... .......... 41% 17.2M 1s\n",
      "  6900K .......... .......... .......... .......... .......... 41% 16.8M 1s\n",
      "  6950K .......... .......... .......... .......... .......... 42% 17.9M 1s\n",
      "  7000K .......... .......... .......... .......... .......... 42% 16.7M 1s\n",
      "  7050K .......... .......... .......... .......... .......... 42% 18.0M 1s\n",
      "  7100K .......... .......... .......... .......... .......... 43% 15.7M 1s\n",
      "  7150K .......... .......... .......... .......... .......... 43% 18.0M 1s\n",
      "  7200K .......... .......... .......... .......... .......... 43% 13.0M 1s\n",
      "  7250K .......... .......... .......... .......... .......... 44% 17.0M 1s\n",
      "  7300K .......... .......... .......... .......... .......... 44% 16.6M 1s\n",
      "  7350K .......... .......... .......... .......... .......... 44% 13.3M 1s\n",
      "  7400K .......... .......... .......... .......... .......... 44% 17.2M 1s\n",
      "  7450K .......... .......... .......... .......... .......... 45% 15.8M 1s\n",
      "  7500K .......... .......... .......... .......... .......... 45% 17.1M 1s\n",
      "  7550K .......... .......... .......... .......... .......... 45% 17.1M 1s\n",
      "  7600K .......... .......... .......... .......... .......... 46% 13.2M 1s\n",
      "  7650K .......... .......... .......... .......... .......... 46% 17.3M 1s\n",
      "  7700K .......... .......... .......... .......... .......... 46% 16.2M 1s\n",
      "  7750K .......... .......... .......... .......... .......... 47% 16.8M 1s\n",
      "  7800K .......... .......... .......... .......... .......... 47% 11.0M 1s\n",
      "  7850K .......... .......... .......... .......... .......... 47% 39.9M 1s\n",
      "  7900K .......... .......... .......... .......... .......... 47% 17.3M 1s\n",
      "  7950K .......... .......... .......... .......... .......... 48% 16.8M 1s\n",
      "  8000K .......... .......... .......... .......... .......... 48% 13.1M 1s\n",
      "  8050K .......... .......... .......... .......... .......... 48% 17.1M 1s\n",
      "  8100K .......... .......... .......... .......... .......... 49% 17.0M 1s\n",
      "  8150K .......... .......... .......... .......... .......... 49% 16.9M 1s\n",
      "  8200K .......... .......... .......... .......... .......... 49% 13.8M 1s\n",
      "  8250K .......... .......... .......... .......... .......... 50% 16.9M 1s\n",
      "  8300K .......... .......... .......... .......... .......... 50% 15.9M 1s\n",
      "  8350K .......... .......... .......... .......... .......... 50% 17.9M 1s\n",
      "  8400K .......... .......... .......... .......... .......... 50% 12.9M 1s\n",
      "  8450K .......... .......... .......... .......... .......... 51% 16.8M 1s\n",
      "  8500K .......... .......... .......... .......... .......... 51% 17.7M 1s\n",
      "  8550K .......... .......... .......... .......... .......... 51% 17.6M 1s\n",
      "  8600K .......... .......... .......... .......... .......... 52% 13.2M 1s\n",
      "  8650K .......... .......... .......... .......... .......... 52% 17.4M 1s\n",
      "  8700K .......... .......... .......... .......... .......... 52% 17.3M 1s\n",
      "  8750K .......... .......... .......... .......... .......... 53% 15.9M 1s\n",
      "  8800K .......... .......... .......... .......... .......... 53% 13.3M 1s\n",
      "  8850K .......... .......... .......... .......... .......... 53% 16.9M 1s\n",
      "  8900K .......... .......... .......... .......... .......... 53% 17.0M 1s\n",
      "  8950K .......... .......... .......... .......... .......... 54% 17.0M 1s\n",
      "  9000K .......... .......... .......... .......... .......... 54% 15.6M 1s\n",
      "  9050K .......... .......... .......... .......... .......... 54% 17.6M 1s\n",
      "  9100K .......... .......... .......... .......... .......... 55% 18.2M 0s\n",
      "  9150K .......... .......... .......... .......... .......... 55% 16.2M 0s\n",
      "  9200K .......... .......... .......... .......... .......... 55% 13.1M 0s\n",
      "  9250K .......... .......... .......... .......... .......... 56% 16.8M 0s\n",
      "  9300K .......... .......... .......... .......... .......... 56% 17.4M 0s\n",
      "  9350K .......... .......... .......... .......... .......... 56% 17.9M 0s\n",
      "  9400K .......... .......... .......... .......... .......... 56% 15.5M 0s\n",
      "  9450K .......... .......... .......... .......... .......... 57% 14.4M 0s\n",
      "  9500K .......... .......... .......... .......... .......... 57% 16.9M 0s\n",
      "  9550K .......... .......... .......... .......... .......... 57% 16.4M 0s\n",
      "  9600K .......... .......... .......... .......... .......... 58% 13.8M 0s\n",
      "  9650K .......... .......... .......... .......... .......... 58% 16.6M 0s\n",
      "  9700K .......... .......... .......... .......... .......... 58% 16.9M 0s\n",
      "  9750K .......... .......... .......... .......... .......... 59% 16.7M 0s\n",
      "  9800K .......... .......... .......... .......... .......... 59% 16.9M 0s\n",
      "  9850K .......... .......... .......... .......... .......... 59% 16.7M 0s\n",
      "  9900K .......... .......... .......... .......... .......... 60% 13.4M 0s\n",
      "  9950K .......... .......... .......... .......... .......... 60% 11.5M 0s\n",
      " 10000K .......... .......... .......... .......... .......... 60% 11.8M 0s\n",
      " 10050K .......... .......... .......... .......... .......... 60% 14.3M 0s\n",
      " 10100K .......... .......... .......... .......... .......... 61% 17.7M 0s\n",
      " 10150K .......... .......... .......... .......... .......... 61% 17.3M 0s\n",
      " 10200K .......... .......... .......... .......... .......... 61% 18.0M 0s\n",
      " 10250K .......... .......... .......... .......... .......... 62% 26.2M 0s\n",
      " 10300K .......... .......... .......... .......... .......... 62% 21.1M 0s\n",
      " 10350K .......... .......... .......... .......... .......... 62% 19.3M 0s\n",
      " 10400K .......... .......... .......... .......... .......... 63% 12.7M 0s\n",
      " 10450K .......... .......... .......... .......... .......... 63% 16.1M 0s\n",
      " 10500K .......... .......... .......... .......... .......... 63% 19.0M 0s\n",
      " 10550K .......... .......... .......... .......... .......... 63% 15.8M 0s\n",
      " 10600K .......... .......... .......... .......... .......... 64% 17.7M 0s\n",
      " 10650K .......... .......... .......... .......... .......... 64% 16.7M 0s\n",
      " 10700K .......... .......... .......... .......... .......... 64% 17.4M 0s\n",
      " 10750K .......... .......... .......... .......... .......... 65% 13.5M 0s\n",
      " 10800K .......... .......... .......... .......... .......... 65% 11.8M 0s\n",
      " 10850K .......... .......... .......... .......... .......... 65% 17.2M 0s\n",
      " 10900K .......... .......... .......... .......... .......... 66% 18.2M 0s\n",
      " 10950K .......... .......... .......... .......... .......... 66% 16.6M 0s\n",
      " 11000K .......... .......... .......... .......... .......... 66% 16.0M 0s\n",
      " 11050K .......... .......... .......... .......... .......... 66% 16.7M 0s\n",
      " 11100K .......... .......... .......... .......... .......... 67% 17.6M 0s\n",
      " 11150K .......... .......... .......... .......... .......... 67% 14.4M 0s\n",
      " 11200K .......... .......... .......... .......... .......... 67% 12.7M 0s\n",
      " 11250K .......... .......... .......... .......... .......... 68% 16.3M 0s\n",
      " 11300K .......... .......... .......... .......... .......... 68% 16.9M 0s\n",
      " 11350K .......... .......... .......... .......... .......... 68% 16.7M 0s\n",
      " 11400K .......... .......... .......... .......... .......... 69% 17.7M 0s\n",
      " 11450K .......... .......... .......... .......... .......... 69% 17.2M 0s\n",
      " 11500K .......... .......... .......... .......... .......... 69% 19.1M 0s\n",
      " 11550K .......... .......... .......... .......... .......... 69% 17.9M 0s\n",
      " 11600K .......... .......... .......... .......... .......... 70% 12.7M 0s\n",
      " 11650K .......... .......... .......... .......... .......... 70% 17.5M 0s\n",
      " 11700K .......... .......... .......... .......... .......... 70% 17.4M 0s\n",
      " 11750K .......... .......... .......... .......... .......... 71% 16.4M 0s\n",
      " 11800K .......... .......... .......... .......... .......... 71% 16.8M 0s\n",
      " 11850K .......... .......... .......... .......... .......... 71% 18.6M 0s\n",
      " 11900K .......... .......... .......... .......... .......... 72% 16.4M 0s\n",
      " 11950K .......... .......... .......... .......... .......... 72% 17.0M 0s\n",
      " 12000K .......... .......... .......... .......... .......... 72% 12.5M 0s\n",
      " 12050K .......... .......... .......... .......... .......... 72% 15.5M 0s\n",
      " 12100K .......... .......... .......... .......... .......... 73% 17.1M 0s\n",
      " 12150K .......... .......... .......... .......... .......... 73% 16.2M 0s\n",
      " 12200K .......... .......... .......... .......... .......... 73% 16.5M 0s\n",
      " 12250K .......... .......... .......... .......... .......... 74% 2.66M 0s\n",
      " 12300K .......... .......... .......... .......... .......... 74% 2.68M 0s\n",
      " 12350K .......... .......... .......... .......... .......... 74%  392M 0s\n",
      " 12400K .......... .......... .......... .......... .......... 75%  120M 0s\n",
      " 12450K .......... .......... .......... .......... .......... 75%  342M 0s\n",
      " 12500K .......... .......... .......... .......... .......... 75%  584M 0s\n",
      " 12550K .......... .......... .......... .......... .......... 75%  643M 0s\n",
      " 12600K .......... .......... .......... .......... .......... 76%  285M 0s\n",
      " 12650K .......... .......... .......... .......... .......... 76%  436M 0s\n",
      " 12700K .......... .......... .......... .......... .......... 76%  459M 0s\n",
      " 12750K .......... .......... .......... .......... .......... 77%  415M 0s\n",
      " 12800K .......... .......... .......... .......... .......... 77%  364M 0s\n",
      " 12850K .......... .......... .......... .......... .......... 77% 35.0M 0s\n",
      " 12900K .......... .......... .......... .......... .......... 78% 17.4M 0s\n",
      " 12950K .......... .......... .......... .......... .......... 78% 16.7M 0s\n",
      " 13000K .......... .......... .......... .......... .......... 78% 17.6M 0s\n",
      " 13050K .......... .......... .......... .......... .......... 79% 17.9M 0s\n",
      " 13100K .......... .......... .......... .......... .......... 79% 7.56M 0s\n",
      " 13150K .......... .......... .......... .......... .......... 79% 38.5M 0s\n",
      " 13200K .......... .......... .......... .......... .......... 79% 16.2M 0s\n",
      " 13250K .......... .......... .......... .......... .......... 80% 18.2M 0s\n",
      " 13300K .......... .......... .......... .......... .......... 80% 16.8M 0s\n",
      " 13350K .......... .......... .......... .......... .......... 80% 17.0M 0s\n",
      " 13400K .......... .......... .......... .......... .......... 81% 16.6M 0s\n",
      " 13450K .......... .......... .......... .......... .......... 81% 17.4M 0s\n",
      " 13500K .......... .......... .......... .......... .......... 81% 16.6M 0s\n",
      " 13550K .......... .......... .......... .......... .......... 82% 14.4M 0s\n",
      " 13600K .......... .......... .......... .......... .......... 82% 12.4M 0s\n",
      " 13650K .......... .......... .......... .......... .......... 82% 15.9M 0s\n",
      " 13700K .......... .......... .......... .......... .......... 82% 18.0M 0s\n",
      " 13750K .......... .......... .......... .......... .......... 83% 16.3M 0s\n",
      " 13800K .......... .......... .......... .......... .......... 83% 17.5M 0s\n",
      " 13850K .......... .......... .......... .......... .......... 83% 17.9M 0s\n",
      " 13900K .......... .......... .......... .......... .......... 84% 17.0M 0s\n",
      " 13950K .......... .......... .......... .......... .......... 84% 17.0M 0s\n",
      " 14000K .......... .......... .......... .......... .......... 84% 13.0M 0s\n",
      " 14050K .......... .......... .......... .......... .......... 85% 15.8M 0s\n",
      " 14100K .......... .......... .......... .......... .......... 85% 16.9M 0s\n",
      " 14150K .......... .......... .......... .......... .......... 85% 16.0M 0s\n",
      " 14200K .......... .......... .......... .......... .......... 85% 18.0M 0s\n",
      " 14250K .......... .......... .......... .......... .......... 86% 16.5M 0s\n",
      " 14300K .......... .......... .......... .......... .......... 86% 17.5M 0s\n",
      " 14350K .......... .......... .......... .......... .......... 86% 17.1M 0s\n",
      " 14400K .......... .......... .......... .......... .......... 87% 10.8M 0s\n",
      " 14450K .......... .......... .......... .......... .......... 87% 17.4M 0s\n",
      " 14500K .......... .......... .......... .......... .......... 87% 16.4M 0s\n",
      " 14550K .......... .......... .......... .......... .......... 88% 17.0M 0s\n",
      " 14600K .......... .......... .......... .......... .......... 88% 19.2M 0s\n",
      " 14650K .......... .......... .......... .......... .......... 88% 16.3M 0s\n",
      " 14700K .......... .......... .......... .......... .......... 88% 16.8M 0s\n",
      " 14750K .......... .......... .......... .......... .......... 89% 16.5M 0s\n",
      " 14800K .......... .......... .......... .......... .......... 89% 13.7M 0s\n",
      " 14850K .......... .......... .......... .......... .......... 89% 16.5M 0s\n",
      " 14900K .......... .......... .......... .......... .......... 90% 17.3M 0s\n",
      " 14950K .......... .......... .......... .......... .......... 90% 17.0M 0s\n",
      " 15000K .......... .......... .......... .......... .......... 90% 16.5M 0s\n",
      " 15050K .......... .......... .......... .......... .......... 91% 15.1M 0s\n",
      " 15100K .......... .......... .......... .......... .......... 91% 16.5M 0s\n",
      " 15150K .......... .......... .......... .......... .......... 91% 16.8M 0s\n",
      " 15200K .......... .......... .......... .......... .......... 91% 13.3M 0s\n",
      " 15250K .......... .......... .......... .......... .......... 92% 16.9M 0s\n",
      " 15300K .......... .......... .......... .......... .......... 92% 16.1M 0s\n",
      " 15350K .......... .......... .......... .......... .......... 92% 17.9M 0s\n",
      " 15400K .......... .......... .......... .......... .......... 93% 16.6M 0s\n",
      " 15450K .......... .......... .......... .......... .......... 93% 17.1M 0s\n",
      " 15500K .......... .......... .......... .......... .......... 93% 16.9M 0s\n",
      " 15550K .......... .......... .......... .......... .......... 94% 17.4M 0s\n",
      " 15600K .......... .......... .......... .......... .......... 94% 12.7M 0s\n",
      " 15650K .......... .......... .......... .......... .......... 94% 18.2M 0s\n",
      " 15700K .......... .......... .......... .......... .......... 94% 16.8M 0s\n",
      " 15750K .......... .......... .......... .......... .......... 95% 17.4M 0s\n",
      " 15800K .......... .......... .......... .......... .......... 95% 13.9M 0s\n",
      " 15850K .......... .......... .......... .......... .......... 95% 17.1M 0s\n",
      " 15900K .......... .......... .......... .......... .......... 96% 15.5M 0s\n",
      " 15950K .......... .......... .......... .......... .......... 96% 18.3M 0s\n",
      " 16000K .......... .......... .......... .......... .......... 96% 12.4M 0s\n",
      " 16050K .......... .......... .......... .......... .......... 97% 17.7M 0s\n",
      " 16100K .......... .......... .......... .......... .......... 97% 16.8M 0s\n",
      " 16150K .......... .......... .......... .......... .......... 97% 18.1M 0s\n",
      " 16200K .......... .......... .......... .......... .......... 98% 13.7M 0s\n",
      " 16250K .......... .......... .......... .......... .......... 98% 17.0M 0s\n",
      " 16300K .......... .......... .......... .......... .......... 98% 16.0M 0s\n",
      " 16350K .......... .......... .......... .......... .......... 98% 18.0M 0s\n",
      " 16400K .......... .......... .......... .......... .......... 99% 12.6M 0s\n",
      " 16450K .......... .......... .......... .......... .......... 99% 17.9M 0s\n",
      " 16500K .......... .......... .......... .......... .......... 99% 16.4M 0s\n",
      " 16550K .......... .......... ........                        100% 27.3M=1.1s\n",
      "\n",
      "2022-10-28 11:33:37 (15.2 MB/s) - '07_efficientnetb0_feature_extract_model_mixed_precision.zip' saved [16976857/16976857]\n",
      "\n"
     ]
    }
   ],
   "source": [
    "# Download the saved model from Google Storage\n",
    "!wget https://storage.googleapis.com/ztm_tf_course/food_vision/07_efficientnetb0_feature_extract_model_mixed_precision.zip "
   ]
  },
  {
   "cell_type": "code",
   "execution_count": 63,
   "id": "dd3aefc0-7fe7-422f-b299-bc9f1b471e9f",
   "metadata": {},
   "outputs": [
    {
     "name": "stderr",
     "output_type": "stream",
     "text": [
      "'unzip' is not recognized as an internal or external command,\n",
      "operable program or batch file.\n"
     ]
    }
   ],
   "source": [
    "# Unzip the SavedModel downloaded from Google Stroage\n",
    "#!mkdir downloaded_gs_model # create new dir to store downloaded feature extraction model\n",
    "#!unzip 07_efficientnetb0_feature_extract_model_mixed_precision.zip -d downloaded_gs_model"
   ]
  },
  {
   "cell_type": "markdown",
   "id": "3c8b5c35-21b8-400b-8293-91a4aa5be817",
   "metadata": {},
   "source": [
    "Unzipped this manually"
   ]
  },
  {
   "cell_type": "code",
   "execution_count": 64,
   "id": "c8139ce3-9be2-431a-befb-201b785b5c5e",
   "metadata": {
    "collapsed": true,
    "jupyter": {
     "outputs_hidden": true
    },
    "tags": []
   },
   "outputs": [
    {
     "name": "stderr",
     "output_type": "stream",
     "text": [
      "WARNING:absl:Importing a function (__inference_block1a_activation_layer_call_and_return_conditional_losses_158253) with ops with unsaved custom gradients. Will likely fail if a gradient is requested.\n",
      "WARNING:absl:Importing a function (__inference_block2a_activation_layer_call_and_return_conditional_losses_191539) with ops with unsaved custom gradients. Will likely fail if a gradient is requested.\n",
      "WARNING:absl:Importing a function (__inference_block6d_expand_activation_layer_call_and_return_conditional_losses_196076) with ops with unsaved custom gradients. Will likely fail if a gradient is requested.\n",
      "WARNING:absl:Importing a function (__inference_block6c_activation_layer_call_and_return_conditional_losses_195780) with ops with unsaved custom gradients. Will likely fail if a gradient is requested.\n",
      "WARNING:absl:Importing a function (__inference_block6d_activation_layer_call_and_return_conditional_losses_196153) with ops with unsaved custom gradients. Will likely fail if a gradient is requested.\n",
      "WARNING:absl:Importing a function (__inference_model_layer_call_and_return_conditional_losses_180010) with ops with unsaved custom gradients. Will likely fail if a gradient is requested.\n",
      "WARNING:absl:Importing a function (__inference_stem_activation_layer_call_and_return_conditional_losses_191136) with ops with unsaved custom gradients. Will likely fail if a gradient is requested.\n",
      "WARNING:absl:Importing a function (__inference_block4c_expand_activation_layer_call_and_return_conditional_losses_160354) with ops with unsaved custom gradients. Will likely fail if a gradient is requested.\n",
      "WARNING:absl:Importing a function (__inference_block6c_expand_activation_layer_call_and_return_conditional_losses_195703) with ops with unsaved custom gradients. Will likely fail if a gradient is requested.\n",
      "WARNING:absl:Importing a function (__inference_block3b_expand_activation_layer_call_and_return_conditional_losses_159392) with ops with unsaved custom gradients. Will likely fail if a gradient is requested.\n",
      "WARNING:absl:Importing a function (__inference_block1a_activation_layer_call_and_return_conditional_losses_191213) with ops with unsaved custom gradients. Will likely fail if a gradient is requested.\n",
      "WARNING:absl:Importing a function (__inference_block4c_se_reduce_layer_call_and_return_conditional_losses_193678) with ops with unsaved custom gradients. Will likely fail if a gradient is requested.\n",
      "WARNING:absl:Importing a function (__inference_block5a_se_reduce_layer_call_and_return_conditional_losses_194051) with ops with unsaved custom gradients. Will likely fail if a gradient is requested.\n",
      "WARNING:absl:Importing a function (__inference_block2b_expand_activation_layer_call_and_return_conditional_losses_158768) with ops with unsaved custom gradients. Will likely fail if a gradient is requested.\n",
      "WARNING:absl:Importing a function (__inference_block2b_se_reduce_layer_call_and_return_conditional_losses_191907) with ops with unsaved custom gradients. Will likely fail if a gradient is requested.\n",
      "WARNING:absl:Importing a function (__inference_block6d_se_reduce_layer_call_and_return_conditional_losses_162720) with ops with unsaved custom gradients. Will likely fail if a gradient is requested.\n",
      "WARNING:absl:Importing a function (__inference_block5c_activation_layer_call_and_return_conditional_losses_194708) with ops with unsaved custom gradients. Will likely fail if a gradient is requested.\n",
      "WARNING:absl:Importing a function (__inference_block6d_se_reduce_layer_call_and_return_conditional_losses_196195) with ops with unsaved custom gradients. Will likely fail if a gradient is requested.\n",
      "WARNING:absl:Importing a function (__inference_block5b_expand_activation_layer_call_and_return_conditional_losses_194258) with ops with unsaved custom gradients. Will likely fail if a gradient is requested.\n",
      "WARNING:absl:Importing a function (__inference_efficientnetb0_layer_call_and_return_conditional_losses_188022) with ops with unsaved custom gradients. Will likely fail if a gradient is requested.\n",
      "WARNING:absl:Importing a function (__inference_block6b_activation_layer_call_and_return_conditional_losses_161995) with ops with unsaved custom gradients. Will likely fail if a gradient is requested.\n",
      "WARNING:absl:Importing a function (__inference_efficientnetb0_layer_call_and_return_conditional_losses_183149) with ops with unsaved custom gradients. Will likely fail if a gradient is requested.\n",
      "WARNING:absl:Importing a function (__inference_block2b_activation_layer_call_and_return_conditional_losses_158824) with ops with unsaved custom gradients. Will likely fail if a gradient is requested.\n",
      "WARNING:absl:Importing a function (__inference_block4a_activation_layer_call_and_return_conditional_losses_159787) with ops with unsaved custom gradients. Will likely fail if a gradient is requested.\n",
      "WARNING:absl:Importing a function (__inference_block2a_expand_activation_layer_call_and_return_conditional_losses_158482) with ops with unsaved custom gradients. Will likely fail if a gradient is requested.\n",
      "WARNING:absl:Importing a function (__inference_block2a_se_reduce_layer_call_and_return_conditional_losses_158588) with ops with unsaved custom gradients. Will likely fail if a gradient is requested.\n",
      "WARNING:absl:Importing a function (__inference_block6b_se_reduce_layer_call_and_return_conditional_losses_195449) with ops with unsaved custom gradients. Will likely fail if a gradient is requested.\n",
      "WARNING:absl:Importing a function (__inference_block5b_se_reduce_layer_call_and_return_conditional_losses_194377) with ops with unsaved custom gradients. Will likely fail if a gradient is requested.\n",
      "WARNING:absl:Importing a function (__inference_block6d_expand_activation_layer_call_and_return_conditional_losses_162615) with ops with unsaved custom gradients. Will likely fail if a gradient is requested.\n",
      "WARNING:absl:Importing a function (__inference_block3a_activation_layer_call_and_return_conditional_losses_192238) with ops with unsaved custom gradients. Will likely fail if a gradient is requested.\n",
      "WARNING:absl:Importing a function (__inference_block4b_se_reduce_layer_call_and_return_conditional_losses_160121) with ops with unsaved custom gradients. Will likely fail if a gradient is requested.\n",
      "WARNING:absl:Importing a function (__inference_block4a_expand_activation_layer_call_and_return_conditional_losses_192860) with ops with unsaved custom gradients. Will likely fail if a gradient is requested.\n",
      "WARNING:absl:Importing a function (__inference_block2b_activation_layer_call_and_return_conditional_losses_191865) with ops with unsaved custom gradients. Will likely fail if a gradient is requested.\n",
      "WARNING:absl:Importing a function (__inference_block4b_expand_activation_layer_call_and_return_conditional_losses_160016) with ops with unsaved custom gradients. Will likely fail if a gradient is requested.\n",
      "WARNING:absl:Importing a function (__inference_block5c_se_reduce_layer_call_and_return_conditional_losses_194750) with ops with unsaved custom gradients. Will likely fail if a gradient is requested.\n",
      "WARNING:absl:Importing a function (__inference_efficientnetb0_layer_call_and_return_conditional_losses_169029) with ops with unsaved custom gradients. Will likely fail if a gradient is requested.\n",
      "WARNING:absl:Importing a function (__inference_efficientnetb0_layer_call_and_return_conditional_losses_170771) with ops with unsaved custom gradients. Will likely fail if a gradient is requested.\n",
      "WARNING:absl:Importing a function (__inference_block3b_activation_layer_call_and_return_conditional_losses_159448) with ops with unsaved custom gradients. Will likely fail if a gradient is requested.\n",
      "WARNING:absl:Importing a function (__inference_block5c_expand_activation_layer_call_and_return_conditional_losses_194631) with ops with unsaved custom gradients. Will likely fail if a gradient is requested.\n",
      "WARNING:absl:Importing a function (__inference_block4a_se_reduce_layer_call_and_return_conditional_losses_192979) with ops with unsaved custom gradients. Will likely fail if a gradient is requested.\n",
      "WARNING:absl:Importing a function (__inference_block4b_activation_layer_call_and_return_conditional_losses_193263) with ops with unsaved custom gradients. Will likely fail if a gradient is requested.\n",
      "WARNING:absl:Importing a function (__inference_block5b_expand_activation_layer_call_and_return_conditional_losses_160977) with ops with unsaved custom gradients. Will likely fail if a gradient is requested.\n",
      "WARNING:absl:Importing a function (__inference_block7a_expand_activation_layer_call_and_return_conditional_losses_162953) with ops with unsaved custom gradients. Will likely fail if a gradient is requested.\n",
      "WARNING:absl:Importing a function (__inference_block4a_se_reduce_layer_call_and_return_conditional_losses_159836) with ops with unsaved custom gradients. Will likely fail if a gradient is requested.\n",
      "WARNING:absl:Importing a function (__inference_block2a_se_reduce_layer_call_and_return_conditional_losses_191581) with ops with unsaved custom gradients. Will likely fail if a gradient is requested.\n",
      "WARNING:absl:Importing a function (__inference_block2a_activation_layer_call_and_return_conditional_losses_158539) with ops with unsaved custom gradients. Will likely fail if a gradient is requested.\n",
      "WARNING:absl:Importing a function (__inference_block6c_se_reduce_layer_call_and_return_conditional_losses_162382) with ops with unsaved custom gradients. Will likely fail if a gradient is requested.\n",
      "WARNING:absl:Importing a function (__inference_block7a_expand_activation_layer_call_and_return_conditional_losses_196449) with ops with unsaved custom gradients. Will likely fail if a gradient is requested.\n",
      "WARNING:absl:Importing a function (__inference_top_activation_layer_call_and_return_conditional_losses_163238) with ops with unsaved custom gradients. Will likely fail if a gradient is requested.\n",
      "WARNING:absl:Importing a function (__inference_block6c_expand_activation_layer_call_and_return_conditional_losses_162277) with ops with unsaved custom gradients. Will likely fail if a gradient is requested.\n",
      "WARNING:absl:Importing a function (__inference_block3b_expand_activation_layer_call_and_return_conditional_losses_192487) with ops with unsaved custom gradients. Will likely fail if a gradient is requested.\n",
      "WARNING:absl:Importing a function (__inference_block1a_se_reduce_layer_call_and_return_conditional_losses_191255) with ops with unsaved custom gradients. Will likely fail if a gradient is requested.\n",
      "WARNING:absl:Importing a function (__inference_block7a_activation_layer_call_and_return_conditional_losses_163009) with ops with unsaved custom gradients. Will likely fail if a gradient is requested.\n",
      "WARNING:absl:Importing a function (__inference_block5b_activation_layer_call_and_return_conditional_losses_194335) with ops with unsaved custom gradients. Will likely fail if a gradient is requested.\n",
      "WARNING:absl:Importing a function (__inference_block4c_expand_activation_layer_call_and_return_conditional_losses_193559) with ops with unsaved custom gradients. Will likely fail if a gradient is requested.\n",
      "WARNING:absl:Importing a function (__inference_block4a_expand_activation_layer_call_and_return_conditional_losses_159730) with ops with unsaved custom gradients. Will likely fail if a gradient is requested.\n",
      "WARNING:absl:Importing a function (__inference_block6a_se_reduce_layer_call_and_return_conditional_losses_161759) with ops with unsaved custom gradients. Will likely fail if a gradient is requested.\n",
      "WARNING:absl:Importing a function (__inference_block3a_expand_activation_layer_call_and_return_conditional_losses_192161) with ops with unsaved custom gradients. Will likely fail if a gradient is requested.\n",
      "WARNING:absl:Importing a function (__inference_block4b_se_reduce_layer_call_and_return_conditional_losses_193305) with ops with unsaved custom gradients. Will likely fail if a gradient is requested.\n",
      "WARNING:absl:Importing a function (__inference_block5a_activation_layer_call_and_return_conditional_losses_160748) with ops with unsaved custom gradients. Will likely fail if a gradient is requested.\n",
      "WARNING:absl:Importing a function (__inference_block5c_activation_layer_call_and_return_conditional_losses_161371) with ops with unsaved custom gradients. Will likely fail if a gradient is requested.\n",
      "WARNING:absl:Importing a function (__inference_block4a_activation_layer_call_and_return_conditional_losses_192937) with ops with unsaved custom gradients. Will likely fail if a gradient is requested.\n",
      "WARNING:absl:Importing a function (__inference_block7a_se_reduce_layer_call_and_return_conditional_losses_196568) with ops with unsaved custom gradients. Will likely fail if a gradient is requested.\n",
      "WARNING:absl:Importing a function (__inference_block2b_expand_activation_layer_call_and_return_conditional_losses_191788) with ops with unsaved custom gradients. Will likely fail if a gradient is requested.\n",
      "WARNING:absl:Importing a function (__inference_block3a_expand_activation_layer_call_and_return_conditional_losses_159106) with ops with unsaved custom gradients. Will likely fail if a gradient is requested.\n",
      "WARNING:absl:Importing a function (__inference_block3b_se_reduce_layer_call_and_return_conditional_losses_159497) with ops with unsaved custom gradients. Will likely fail if a gradient is requested.\n",
      "WARNING:absl:Importing a function (__inference_block5c_expand_activation_layer_call_and_return_conditional_losses_161315) with ops with unsaved custom gradients. Will likely fail if a gradient is requested.\n",
      "WARNING:absl:Importing a function (__inference_efficientnetb0_layer_call_and_return_conditional_losses_184891) with ops with unsaved custom gradients. Will likely fail if a gradient is requested.\n",
      "WARNING:absl:Importing a function (__inference_model_layer_call_and_return_conditional_losses_178256) with ops with unsaved custom gradients. Will likely fail if a gradient is requested.\n",
      "WARNING:absl:Importing a function (__inference_block6a_activation_layer_call_and_return_conditional_losses_161710) with ops with unsaved custom gradients. Will likely fail if a gradient is requested.\n",
      "WARNING:absl:Importing a function (__inference_block6a_expand_activation_layer_call_and_return_conditional_losses_161653) with ops with unsaved custom gradients. Will likely fail if a gradient is requested.\n",
      "WARNING:absl:Importing a function (__inference_block3a_se_reduce_layer_call_and_return_conditional_losses_159212) with ops with unsaved custom gradients. Will likely fail if a gradient is requested.\n",
      "WARNING:absl:Importing a function (__inference_stem_activation_layer_call_and_return_conditional_losses_158197) with ops with unsaved custom gradients. Will likely fail if a gradient is requested.\n",
      "WARNING:absl:Importing a function (__inference_efficientnetb0_layer_call_and_return_conditional_losses_189764) with ops with unsaved custom gradients. Will likely fail if a gradient is requested.\n",
      "WARNING:absl:Importing a function (__inference_block3b_se_reduce_layer_call_and_return_conditional_losses_192606) with ops with unsaved custom gradients. Will likely fail if a gradient is requested.\n",
      "WARNING:absl:Importing a function (__inference_block6a_activation_layer_call_and_return_conditional_losses_195081) with ops with unsaved custom gradients. Will likely fail if a gradient is requested.\n",
      "WARNING:absl:Importing a function (__inference_block6c_activation_layer_call_and_return_conditional_losses_162333) with ops with unsaved custom gradients. Will likely fail if a gradient is requested.\n",
      "WARNING:absl:Importing a function (__inference_block5a_se_reduce_layer_call_and_return_conditional_losses_160797) with ops with unsaved custom gradients. Will likely fail if a gradient is requested.\n",
      "WARNING:absl:Importing a function (__inference_block5a_activation_layer_call_and_return_conditional_losses_194009) with ops with unsaved custom gradients. Will likely fail if a gradient is requested.\n",
      "WARNING:absl:Importing a function (__inference_block6c_se_reduce_layer_call_and_return_conditional_losses_195822) with ops with unsaved custom gradients. Will likely fail if a gradient is requested.\n",
      "WARNING:absl:Importing a function (__inference_block5b_activation_layer_call_and_return_conditional_losses_161033) with ops with unsaved custom gradients. Will likely fail if a gradient is requested.\n",
      "WARNING:absl:Importing a function (__inference_block6b_expand_activation_layer_call_and_return_conditional_losses_195330) with ops with unsaved custom gradients. Will likely fail if a gradient is requested.\n",
      "WARNING:absl:Importing a function (__inference_block3a_activation_layer_call_and_return_conditional_losses_159163) with ops with unsaved custom gradients. Will likely fail if a gradient is requested.\n",
      "WARNING:absl:Importing a function (__inference_block4c_se_reduce_layer_call_and_return_conditional_losses_160459) with ops with unsaved custom gradients. Will likely fail if a gradient is requested.\n",
      "WARNING:absl:Importing a function (__inference_block6b_activation_layer_call_and_return_conditional_losses_195407) with ops with unsaved custom gradients. Will likely fail if a gradient is requested.\n",
      "WARNING:absl:Importing a function (__inference_block7a_se_reduce_layer_call_and_return_conditional_losses_163058) with ops with unsaved custom gradients. Will likely fail if a gradient is requested.\n",
      "WARNING:absl:Importing a function (__inference_block3a_se_reduce_layer_call_and_return_conditional_losses_192280) with ops with unsaved custom gradients. Will likely fail if a gradient is requested.\n",
      "WARNING:absl:Importing a function (__inference_block6d_activation_layer_call_and_return_conditional_losses_162671) with ops with unsaved custom gradients. Will likely fail if a gradient is requested.\n",
      "WARNING:absl:Importing a function (__inference__wrapped_model_152628) with ops with unsaved custom gradients. Will likely fail if a gradient is requested.\n",
      "WARNING:absl:Importing a function (__inference_block6b_se_reduce_layer_call_and_return_conditional_losses_162044) with ops with unsaved custom gradients. Will likely fail if a gradient is requested.\n",
      "WARNING:absl:Importing a function (__inference_block2b_se_reduce_layer_call_and_return_conditional_losses_158873) with ops with unsaved custom gradients. Will likely fail if a gradient is requested.\n",
      "WARNING:absl:Importing a function (__inference_block4c_activation_layer_call_and_return_conditional_losses_160410) with ops with unsaved custom gradients. Will likely fail if a gradient is requested.\n",
      "WARNING:absl:Importing a function (__inference_block6a_expand_activation_layer_call_and_return_conditional_losses_195004) with ops with unsaved custom gradients. Will likely fail if a gradient is requested.\n",
      "WARNING:absl:Importing a function (__inference_block3b_activation_layer_call_and_return_conditional_losses_192564) with ops with unsaved custom gradients. Will likely fail if a gradient is requested.\n",
      "WARNING:absl:Importing a function (__inference_block5b_se_reduce_layer_call_and_return_conditional_losses_161082) with ops with unsaved custom gradients. Will likely fail if a gradient is requested.\n",
      "WARNING:absl:Importing a function (__inference_block5c_se_reduce_layer_call_and_return_conditional_losses_161420) with ops with unsaved custom gradients. Will likely fail if a gradient is requested.\n",
      "WARNING:absl:Importing a function (__inference_block4c_activation_layer_call_and_return_conditional_losses_193636) with ops with unsaved custom gradients. Will likely fail if a gradient is requested.\n",
      "WARNING:absl:Importing a function (__inference_top_activation_layer_call_and_return_conditional_losses_196775) with ops with unsaved custom gradients. Will likely fail if a gradient is requested.\n",
      "WARNING:absl:Importing a function (__inference_block4b_activation_layer_call_and_return_conditional_losses_160072) with ops with unsaved custom gradients. Will likely fail if a gradient is requested.\n",
      "WARNING:absl:Importing a function (__inference_block6b_expand_activation_layer_call_and_return_conditional_losses_161939) with ops with unsaved custom gradients. Will likely fail if a gradient is requested.\n",
      "WARNING:absl:Importing a function (__inference_block5a_expand_activation_layer_call_and_return_conditional_losses_193932) with ops with unsaved custom gradients. Will likely fail if a gradient is requested.\n",
      "WARNING:absl:Importing a function (__inference_block4b_expand_activation_layer_call_and_return_conditional_losses_193186) with ops with unsaved custom gradients. Will likely fail if a gradient is requested.\n",
      "WARNING:absl:Importing a function (__inference_block1a_se_reduce_layer_call_and_return_conditional_losses_158302) with ops with unsaved custom gradients. Will likely fail if a gradient is requested.\n",
      "WARNING:absl:Importing a function (__inference_block6a_se_reduce_layer_call_and_return_conditional_losses_195123) with ops with unsaved custom gradients. Will likely fail if a gradient is requested.\n",
      "WARNING:absl:Importing a function (__inference_block2a_expand_activation_layer_call_and_return_conditional_losses_191462) with ops with unsaved custom gradients. Will likely fail if a gradient is requested.\n",
      "WARNING:absl:Importing a function (__inference_block7a_activation_layer_call_and_return_conditional_losses_196526) with ops with unsaved custom gradients. Will likely fail if a gradient is requested.\n",
      "WARNING:absl:Importing a function (__inference_block5a_expand_activation_layer_call_and_return_conditional_losses_160692) with ops with unsaved custom gradients. Will likely fail if a gradient is requested.\n"
     ]
    }
   ],
   "source": [
    "# Load and evaluate downloaded GS model\n",
    "loaded_gs_model = tf.keras.models.load_model(\"downloaded_gs_model/07_efficientnetb0_feature_extract_model_mixed_precision\")"
   ]
  },
  {
   "cell_type": "code",
   "execution_count": 65,
   "id": "68c1eb76-d783-481b-92a1-e2a1aca11453",
   "metadata": {},
   "outputs": [
    {
     "name": "stdout",
     "output_type": "stream",
     "text": [
      "Model: \"model\"\n",
      "_________________________________________________________________\n",
      " Layer (type)                Output Shape              Param #   \n",
      "=================================================================\n",
      " input_layer (InputLayer)    [(None, 224, 224, 3)]     0         \n",
      "                                                                 \n",
      " efficientnetb0 (Functional)  (None, None, None, 1280)  4049571  \n",
      "                                                                 \n",
      " pooling_layer (GlobalAverag  (None, 1280)             0         \n",
      " ePooling2D)                                                     \n",
      "                                                                 \n",
      " dense (Dense)               (None, 101)               129381    \n",
      "                                                                 \n",
      " softmax_float32 (Activation  (None, 101)              0         \n",
      " )                                                               \n",
      "                                                                 \n",
      "=================================================================\n",
      "Total params: 4,178,952\n",
      "Trainable params: 129,381\n",
      "Non-trainable params: 4,049,571\n",
      "_________________________________________________________________\n"
     ]
    }
   ],
   "source": [
    "# Get a summary of our downloaded model\n",
    "loaded_gs_model.summary()"
   ]
  },
  {
   "cell_type": "code",
   "execution_count": 66,
   "id": "c0570099-a603-4c8b-88a7-69d0cd740f3a",
   "metadata": {},
   "outputs": [
    {
     "name": "stdout",
     "output_type": "stream",
     "text": [
      "790/790 [==============================] - 31s 37ms/step - loss: 1.0881 - accuracy: 0.7064\n"
     ]
    },
    {
     "data": {
      "text/plain": [
       "[1.088106632232666, 0.7063762545585632]"
      ]
     },
     "execution_count": 66,
     "metadata": {},
     "output_type": "execute_result"
    }
   ],
   "source": [
    "# How does the loaded model perform?\n",
    "results_loaded_gs_model = loaded_gs_model.evaluate(test_data)\n",
    "results_loaded_gs_model"
   ]
  },
  {
   "cell_type": "code",
   "execution_count": 67,
   "id": "efed52eb-5a9e-4ae2-ad93-eefab8a3c127",
   "metadata": {},
   "outputs": [
    {
     "name": "stdout",
     "output_type": "stream",
     "text": [
      "input_layer True float32 <Policy \"float32\">\n",
      "efficientnetb0 True float32 <Policy \"mixed_float16\">\n",
      "pooling_layer True float32 <Policy \"mixed_float16\">\n",
      "dense True float32 <Policy \"mixed_float16\">\n",
      "softmax_float32 True float32 <Policy \"float32\">\n"
     ]
    }
   ],
   "source": [
    "# Are any of the layers in our model frozen?\n",
    "for layer in loaded_gs_model.layers:\n",
    "    layer.trainable = True # set all layers to trainable\n",
    "    print(layer.name, layer.trainable, layer.dtype, layer.dtype_policy)"
   ]
  },
  {
   "cell_type": "code",
   "execution_count": 68,
   "id": "68290b2d-c2af-418c-a28e-9b4dc0aeb210",
   "metadata": {},
   "outputs": [
    {
     "name": "stdout",
     "output_type": "stream",
     "text": [
      "input_1 True float32 <Policy \"float32\">\n",
      "rescaling True float32 <Policy \"mixed_float16\">\n",
      "normalization True float32 <Policy \"float32\">\n",
      "stem_conv_pad True float32 <Policy \"mixed_float16\">\n",
      "stem_conv True float32 <Policy \"mixed_float16\">\n",
      "stem_bn True float32 <Policy \"mixed_float16\">\n",
      "stem_activation True float32 <Policy \"mixed_float16\">\n",
      "block1a_dwconv True float32 <Policy \"mixed_float16\">\n",
      "block1a_bn True float32 <Policy \"mixed_float16\">\n",
      "block1a_activation True float32 <Policy \"mixed_float16\">\n",
      "block1a_se_squeeze True float32 <Policy \"mixed_float16\">\n",
      "block1a_se_reshape True float32 <Policy \"mixed_float16\">\n",
      "block1a_se_reduce True float32 <Policy \"mixed_float16\">\n",
      "block1a_se_expand True float32 <Policy \"mixed_float16\">\n",
      "block1a_se_excite True float32 <Policy \"mixed_float16\">\n",
      "block1a_project_conv True float32 <Policy \"mixed_float16\">\n",
      "block1a_project_bn True float32 <Policy \"mixed_float16\">\n",
      "block2a_expand_conv True float32 <Policy \"mixed_float16\">\n",
      "block2a_expand_bn True float32 <Policy \"mixed_float16\">\n",
      "block2a_expand_activation True float32 <Policy \"mixed_float16\">\n"
     ]
    }
   ],
   "source": [
    "# Check the layers in the base model and see what dtype policy they're using\n",
    "for layer in loaded_gs_model.layers[1].layers[:20]:\n",
    "    print(layer.name, layer.trainable, layer.dtype, layer.dtype_policy)"
   ]
  },
  {
   "cell_type": "code",
   "execution_count": 69,
   "id": "cc8d4641-8045-4420-a955-0a5363fecfcf",
   "metadata": {},
   "outputs": [],
   "source": [
    "# Setup EarlyStopping callback to stop training if model's val_loss doesn't improve for 3 epochs\n",
    "early_stopping = tf.keras.callbacks.EarlyStopping(monitor='val_loss',\n",
    "                                                  patience=3)\n",
    "\n",
    "checkpoint_path = \"fine_tune_checkpoints/\"\n",
    "model_checkpoint = tf.keras.callbacks.ModelCheckpoint(checkpoint_path,\n",
    "                                                      save_best_only=True,\n",
    "                                                      monitor='val_loss')"
   ]
  },
  {
   "cell_type": "code",
   "execution_count": 70,
   "id": "ce8dd9c8-f338-4ccb-b2ee-0bca2e36c8a5",
   "metadata": {},
   "outputs": [],
   "source": [
    "# Creating learning rate reduction callback\n",
    "reduce_lr = tf.keras.callbacks.ReduceLROnPlateau(monitor='val_loss',\n",
    "                                                 factor=0.2,\n",
    "                                                patience=2,\n",
    "                                                verbose=1,\n",
    "                                                min_lr=1e-7)"
   ]
  },
  {
   "cell_type": "code",
   "execution_count": 71,
   "id": "ef8d8140-41e0-4d48-9518-30ff42a22fc6",
   "metadata": {},
   "outputs": [],
   "source": [
    "loaded_gs_model.compile(loss='sparse_categorical_crossentropy', # not one-hot labels\n",
    "                        optimizer=tf.keras.optimizers.Adam(0.0001),\n",
    "                        metrics=['accuracy']\n",
    ")"
   ]
  },
  {
   "cell_type": "code",
   "execution_count": 72,
   "id": "da1be201-e322-4c07-aafe-d93a54537b0e",
   "metadata": {},
   "outputs": [
    {
     "name": "stdout",
     "output_type": "stream",
     "text": [
      "Saving TensorBoard log files to: training_logs/efficientb0_101_classes_all_data_fine_tuning/20221028-151719\n",
      "Epoch 1/100\n",
      "2368/2368 [==============================] - ETA: 0s - loss: 0.9209 - accuracy: 0.7530"
     ]
    },
    {
     "name": "stderr",
     "output_type": "stream",
     "text": [
      "WARNING:absl:Found untraced functions such as _jit_compiled_convolution_op, _jit_compiled_convolution_op, _jit_compiled_convolution_op, _jit_compiled_convolution_op, _jit_compiled_convolution_op while saving (showing 5 of 81). These functions will not be directly callable after loading.\n"
     ]
    },
    {
     "name": "stdout",
     "output_type": "stream",
     "text": [
      "2368/2368 [==============================] - 383s 156ms/step - loss: 0.9209 - accuracy: 0.7530 - val_loss: 0.7838 - val_accuracy: 0.7807 - lr: 1.0000e-04\n",
      "Epoch 2/100\n",
      "2368/2368 [==============================] - 337s 142ms/step - loss: 0.5773 - accuracy: 0.8397 - val_loss: 0.7936 - val_accuracy: 0.7826 - lr: 1.0000e-04\n",
      "Epoch 3/100\n",
      "2368/2368 [==============================] - ETA: 0s - loss: 0.3293 - accuracy: 0.9068\n",
      "Epoch 3: ReduceLROnPlateau reducing learning rate to 1.9999999494757503e-05.\n",
      "2368/2368 [==============================] - 337s 142ms/step - loss: 0.3293 - accuracy: 0.9068 - val_loss: 0.8330 - val_accuracy: 0.7868 - lr: 1.0000e-04\n",
      "Epoch 4/100\n",
      "2368/2368 [==============================] - 338s 142ms/step - loss: 0.0855 - accuracy: 0.9793 - val_loss: 0.9544 - val_accuracy: 0.8022 - lr: 2.0000e-05\n"
     ]
    }
   ],
   "source": [
    "history_101_food_classes_all_data_fine_tune = loaded_gs_model.fit(train_data,\n",
    "                                                                 epochs=100,\n",
    "                                                                 steps_per_epoch=len(train_data),\n",
    "                                                                 validation_data=test_data,\n",
    "                                                                 validation_steps=int(0.15 * len(test_data)),\n",
    "                                                                 callbacks=[create_tensorboard_callback('training_logs',\n",
    "                                                                                                        \"efficientb0_101_classes_all_data_fine_tuning\"), # track the model training logs\n",
    "                                                                   model_checkpoint, # save only the best model during training\n",
    "                                                                   early_stopping, # stop model after X epochs of no improvements\n",
    "                                                                   reduce_lr]) # reduce the learning rate after X epochs of no improvements"
   ]
  },
  {
   "cell_type": "code",
   "execution_count": 73,
   "id": "21a9c774-7545-4312-b06d-739cb0fc738b",
   "metadata": {},
   "outputs": [
    {
     "name": "stdout",
     "output_type": "stream",
     "text": [
      "790/790 [==============================] - 29s 36ms/step - loss: 0.9454 - accuracy: 0.7970\n"
     ]
    }
   ],
   "source": [
    "results_full_model = loaded_gs_model.evaluate(test_data)"
   ]
  },
  {
   "cell_type": "markdown",
   "id": "fa8a6c3f-9368-4049-b555-c6bb7f169463",
   "metadata": {},
   "source": [
    "** EfficientNetB4 feature extraction"
   ]
  },
  {
   "cell_type": "code",
   "execution_count": 77,
   "id": "3dd3ddde-ebd9-4e3c-9b73-449fa6a8bd2d",
   "metadata": {},
   "outputs": [],
   "source": [
    "from tensorflow.keras import layers\n",
    "\n",
    "# Create base model\n",
    "input_shape = (224, 224, 3)\n",
    "base_model = tf.keras.applications.EfficientNetB4(include_top=False)\n",
    "base_model.trainable = False # freeze base model layers\n",
    "\n",
    "# Create Functional model \n",
    "inputs = layers.Input(shape=input_shape, name=\"input_layer\")\n",
    "# Note: EfficientNetBX models have rescaling built-in but if your model didn't you could have a layer like below\n",
    "# x = layers.Rescaling(1./255)(x)\n",
    "x = base_model(inputs, training=False) # set base_model to inference mode only\n",
    "x = layers.GlobalAveragePooling2D(name=\"pooling_layer\")(x)\n",
    "x = layers.Dense(len(class_names))(x) # want one output neuron per class \n",
    "# Separate activation of output layer so we can output float32 activations\n",
    "outputs = layers.Activation(\"softmax\", dtype=tf.float32, name=\"softmax_float32\")(x) \n",
    "model = tf.keras.Model(inputs, outputs)\n",
    "\n",
    "# Compile the model\n",
    "model.compile(loss=\"sparse_categorical_crossentropy\", # Use sparse_categorical_crossentropy when labels are *not* one-hot\n",
    "              optimizer=tf.keras.optimizers.Adam(),\n",
    "              metrics=[\"accuracy\"])"
   ]
  },
  {
   "cell_type": "code",
   "execution_count": 78,
   "id": "1d3886ac-c7ea-4498-8a1a-5171072308fd",
   "metadata": {},
   "outputs": [
    {
     "name": "stdout",
     "output_type": "stream",
     "text": [
      "input_layer True float32 <Policy \"float32\">\n",
      "efficientnetb4 False float32 <Policy \"mixed_float16\">\n",
      "pooling_layer True float32 <Policy \"mixed_float16\">\n",
      "dense_3 True float32 <Policy \"mixed_float16\">\n",
      "softmax_float32 True float32 <Policy \"float32\">\n"
     ]
    }
   ],
   "source": [
    "# Check the dtype_policy attributes of layers in our model\n",
    "for layer in model.layers:\n",
    "    print(layer.name, layer.trainable, layer.dtype, layer.dtype_policy)"
   ]
  },
  {
   "cell_type": "code",
   "execution_count": null,
   "id": "5b778ad5-dfc8-4a25-9ddc-59da019f965f",
   "metadata": {},
   "outputs": [
    {
     "name": "stdout",
     "output_type": "stream",
     "text": [
      "Saving TensorBoard log files to: training_logs/efficientnetb0_101_classes_all_data_feature_extract/20221028-155850\n",
      "Epoch 1/3\n",
      "2045/2368 [========================>.....] - ETA: 26s - loss: 1.8349 - accuracy: 0.5472"
     ]
    }
   ],
   "source": [
    "# Turn off all warnings except for errors\n",
    "tf.get_logger().setLevel('ERROR')\n",
    "\n",
    "# Fit the model with callbacks\n",
    "history_101_food_classes_feature_extract = model.fit(train_data, \n",
    "                                                     epochs=3,\n",
    "                                                     steps_per_epoch=len(train_data),\n",
    "                                                     validation_data=test_data,\n",
    "                                                     validation_steps=int(0.15 * len(test_data)),\n",
    "                                                     callbacks=[create_tensorboard_callback(\"training_logs\", \n",
    "                                                                                            \"efficientnetb0_101_classes_all_data_feature_extract\"),\n",
    "                                                                model_checkpoint])"
   ]
  },
  {
   "cell_type": "code",
   "execution_count": null,
   "id": "373fc7cd-ed45-4e69-a39b-269ea30c805a",
   "metadata": {},
   "outputs": [],
   "source": []
  }
 ],
 "metadata": {
  "kernelspec": {
   "display_name": "Python 3 (ipykernel)",
   "language": "python",
   "name": "python3"
  },
  "language_info": {
   "codemirror_mode": {
    "name": "ipython",
    "version": 3
   },
   "file_extension": ".py",
   "mimetype": "text/x-python",
   "name": "python",
   "nbconvert_exporter": "python",
   "pygments_lexer": "ipython3",
   "version": "3.9.6"
  }
 },
 "nbformat": 4,
 "nbformat_minor": 5
}
