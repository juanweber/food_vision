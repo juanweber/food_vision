{
 "cells": [
  {
   "cell_type": "code",
   "execution_count": 3,
   "id": "41e74034-b32b-404f-872a-c702aff79d6c",
   "metadata": {},
   "outputs": [],
   "source": [
    "#Replication of https://github.com/mrdbourke/tensorflow-deep-learning/blob/main/07_food_vision_milestone_project_1.ipynb"
   ]
  },
  {
   "cell_type": "code",
   "execution_count": 1,
   "id": "e93062c5-f7bc-4c7f-af0f-2e19b6cbfb44",
   "metadata": {},
   "outputs": [
    {
     "name": "stdout",
     "output_type": "stream",
     "text": [
      "GPU 0: NVIDIA GeForce RTX 3060 (UUID: GPU-e8861a5c-89dd-5ee2-06b2-d3bca4ee7bc6)\n"
     ]
    }
   ],
   "source": [
    "# If using Google Colab, this should output \"Tesla T4\" otherwise, \n",
    "# you won't be able to use mixed precision training\n",
    "!nvidia-smi -L"
   ]
  },
  {
   "cell_type": "code",
   "execution_count": 2,
   "id": "a536cb8b-86cb-49bb-9ee9-b712ec11a400",
   "metadata": {},
   "outputs": [],
   "source": [
    "import tensorflow as tf"
   ]
  },
  {
   "cell_type": "code",
   "execution_count": 4,
   "id": "0f60139a-e274-4439-9e2e-2ef354c307bf",
   "metadata": {},
   "outputs": [
    {
     "name": "stderr",
     "output_type": "stream",
     "text": [
      "--2022-10-27 17:38:42--  https://raw.githubusercontent.com/mrdbourke/tensorflow-deep-learning/main/extras/helper_functions.py\n",
      "Resolving raw.githubusercontent.com (raw.githubusercontent.com)... 185.199.109.133, 185.199.111.133, 185.199.108.133, ...\n",
      "Connecting to raw.githubusercontent.com (raw.githubusercontent.com)|185.199.109.133|:443... connected.\n",
      "HTTP request sent, awaiting response... 200 OK\n",
      "Length: 10246 (10K) [text/plain]\n",
      "Saving to: 'helper_functions.py'\n",
      "\n",
      "     0K ..........                                            100% 3.48M=0.003s\n",
      "\n",
      "2022-10-27 17:38:42 (3.48 MB/s) - 'helper_functions.py' saved [10246/10246]\n",
      "\n"
     ]
    }
   ],
   "source": [
    "# Get helper functions file\n",
    "import os \n",
    "\n",
    "if not os.path.exists(\"helper_functions.py\"):\n",
    "    !wget https://raw.githubusercontent.com/mrdbourke/tensorflow-deep-learning/main/extras/helper_functions.py\n",
    "else:\n",
    "    print(\"[INFO] 'helper_functions.py' already exists, skipping download.\")"
   ]
  },
  {
   "cell_type": "code",
   "execution_count": 5,
   "id": "1f39ae46-88f7-4a72-9b17-470409657401",
   "metadata": {},
   "outputs": [],
   "source": [
    "# Import series of helper functions for the notebook (we've created/used these in previous notebooks)\n",
    "from helper_functions import create_tensorboard_callback, plot_loss_curves, compare_historys"
   ]
  },
  {
   "cell_type": "code",
   "execution_count": 7,
   "id": "a4decd61-ac7f-44bf-997f-0f43356770b4",
   "metadata": {},
   "outputs": [],
   "source": [
    "# Get TensorFlow Datasets\n",
    "import tensorflow_datasets as tfds"
   ]
  },
  {
   "cell_type": "code",
   "execution_count": 8,
   "id": "af04059d-55cb-48f4-bfa4-9e0ce4447a41",
   "metadata": {},
   "outputs": [
    {
     "name": "stdout",
     "output_type": "stream",
     "text": [
      "True\n"
     ]
    }
   ],
   "source": [
    "datasets_list = tfds.list_builders()\n",
    "print(\"food101\" in datasets_list)"
   ]
  },
  {
   "cell_type": "code",
   "execution_count": 9,
   "id": "846f3257-8661-491a-b1b9-4fbe89670a06",
   "metadata": {},
   "outputs": [
    {
     "name": "stdout",
     "output_type": "stream",
     "text": [
      "\u001b[1mDownloading and preparing dataset Unknown size (download: Unknown size, generated: Unknown size, total: Unknown size) to C:\\Users\\Juan\\tensorflow_datasets\\food101\\2.0.0...\u001b[0m\n"
     ]
    },
    {
     "data": {
      "application/vnd.jupyter.widget-view+json": {
       "model_id": "8478728f62b2477891b79629185ca3fd",
       "version_major": 2,
       "version_minor": 0
      },
      "text/plain": [
       "Dl Completed...: 0 url [00:00, ? url/s]"
      ]
     },
     "metadata": {},
     "output_type": "display_data"
    },
    {
     "data": {
      "application/vnd.jupyter.widget-view+json": {
       "model_id": "366c88dbed404711bd6e693a7ab79427",
       "version_major": 2,
       "version_minor": 0
      },
      "text/plain": [
       "Dl Size...: 0 MiB [00:00, ? MiB/s]"
      ]
     },
     "metadata": {},
     "output_type": "display_data"
    },
    {
     "data": {
      "application/vnd.jupyter.widget-view+json": {
       "model_id": "d8ae0d4d556f49458ec16318f4d2cf70",
       "version_major": 2,
       "version_minor": 0
      },
      "text/plain": [
       "Extraction completed...: 0 file [00:00, ? file/s]"
      ]
     },
     "metadata": {},
     "output_type": "display_data"
    },
    {
     "data": {
      "application/vnd.jupyter.widget-view+json": {
       "model_id": "",
       "version_major": 2,
       "version_minor": 0
      },
      "text/plain": [
       "Generating splits...:   0%|          | 0/2 [00:00<?, ? splits/s]"
      ]
     },
     "metadata": {},
     "output_type": "display_data"
    },
    {
     "data": {
      "application/vnd.jupyter.widget-view+json": {
       "model_id": "",
       "version_major": 2,
       "version_minor": 0
      },
      "text/plain": [
       "Generating train examples...: 0 examples [00:00, ? examples/s]"
      ]
     },
     "metadata": {},
     "output_type": "display_data"
    },
    {
     "data": {
      "application/vnd.jupyter.widget-view+json": {
       "model_id": "",
       "version_major": 2,
       "version_minor": 0
      },
      "text/plain": [
       "Shuffling C:\\Users\\Juan\\tensorflow_datasets\\food101\\2.0.0.incompleteOUBC3E\\food101-train.tfrecord*...:   0%|  …"
      ]
     },
     "metadata": {},
     "output_type": "display_data"
    },
    {
     "data": {
      "application/vnd.jupyter.widget-view+json": {
       "model_id": "",
       "version_major": 2,
       "version_minor": 0
      },
      "text/plain": [
       "Generating validation examples...: 0 examples [00:00, ? examples/s]"
      ]
     },
     "metadata": {},
     "output_type": "display_data"
    },
    {
     "data": {
      "application/vnd.jupyter.widget-view+json": {
       "model_id": "",
       "version_major": 2,
       "version_minor": 0
      },
      "text/plain": [
       "Shuffling C:\\Users\\Juan\\tensorflow_datasets\\food101\\2.0.0.incompleteOUBC3E\\food101-validation.tfrecord*...:   …"
      ]
     },
     "metadata": {},
     "output_type": "display_data"
    },
    {
     "name": "stdout",
     "output_type": "stream",
     "text": [
      "\u001b[1mDataset food101 downloaded and prepared to C:\\Users\\Juan\\tensorflow_datasets\\food101\\2.0.0. Subsequent calls will reuse this data.\u001b[0m\n"
     ]
    }
   ],
   "source": [
    "#load data\n",
    "(train_data, test_data), ds_info = tfds.load(name=\"food101\",\n",
    "                                             split=[\"train\", \"validation\"],\n",
    "                                             shuffle_files=True,\n",
    "                                             as_supervised=True,\n",
    "                                             with_info=True\n",
    ")"
   ]
  },
  {
   "cell_type": "code",
   "execution_count": 10,
   "id": "3f9546ae-4939-4cb4-9835-38416943a3ec",
   "metadata": {},
   "outputs": [
    {
     "data": {
      "text/plain": [
       "FeaturesDict({\n",
       "    'image': Image(shape=(None, None, 3), dtype=tf.uint8),\n",
       "    'label': ClassLabel(shape=(), dtype=tf.int64, num_classes=101),\n",
       "})"
      ]
     },
     "execution_count": 10,
     "metadata": {},
     "output_type": "execute_result"
    }
   ],
   "source": [
    "# Features of Food101 TFDS\n",
    "ds_info.features"
   ]
  },
  {
   "cell_type": "code",
   "execution_count": 11,
   "id": "a9769b9b-1e06-4187-93bb-80f3b3999b1b",
   "metadata": {},
   "outputs": [
    {
     "data": {
      "text/plain": [
       "['apple_pie',\n",
       " 'baby_back_ribs',\n",
       " 'baklava',\n",
       " 'beef_carpaccio',\n",
       " 'beef_tartare',\n",
       " 'beet_salad',\n",
       " 'beignets',\n",
       " 'bibimbap',\n",
       " 'bread_pudding',\n",
       " 'breakfast_burrito']"
      ]
     },
     "execution_count": 11,
     "metadata": {},
     "output_type": "execute_result"
    }
   ],
   "source": [
    "# Get class names\n",
    "class_names = ds_info.features[\"label\"].names\n",
    "class_names[:10]"
   ]
  },
  {
   "cell_type": "code",
   "execution_count": 12,
   "id": "94c4e5c3-6510-4877-99d3-16caa6cde361",
   "metadata": {},
   "outputs": [],
   "source": [
    "# Take one sample off the training data\n",
    "train_one_sample = train_data.take(1) # samples are in format (image_tensor, label)"
   ]
  },
  {
   "cell_type": "code",
   "execution_count": 13,
   "id": "2148a370-466d-4218-ab6d-4e4f4d1f3197",
   "metadata": {},
   "outputs": [
    {
     "data": {
      "text/plain": [
       "<TakeDataset element_spec=(TensorSpec(shape=(None, None, 3), dtype=tf.uint8, name=None), TensorSpec(shape=(), dtype=tf.int64, name=None))>"
      ]
     },
     "execution_count": 13,
     "metadata": {},
     "output_type": "execute_result"
    }
   ],
   "source": [
    "# What does one sample of our training data look like?\n",
    "train_one_sample"
   ]
  },
  {
   "cell_type": "code",
   "execution_count": 26,
   "id": "2a3819b1-1472-4bec-9be6-2ad5a8d86ade",
   "metadata": {},
   "outputs": [
    {
     "name": "stdout",
     "output_type": "stream",
     "text": [
      "\n",
      "    Image shape: (512, 512, 3)\n",
      "    Image dtype: <dtype: 'uint8'>\n",
      "    Target class from Food101 (tensor form): 23\n",
      "    Class name (str form): churros\n",
      "          \n"
     ]
    }
   ],
   "source": [
    "# Output info about our training sample\n",
    "for image, label in train_one_sample:\n",
    "    print(f\"\"\"\n",
    "    Image shape: {image.shape}\n",
    "    Image dtype: {image.dtype}\n",
    "    Target class from Food101 (tensor form): {label}\n",
    "    Class name (str form): {class_names[label.numpy()]}\n",
    "          \"\"\")"
   ]
  },
  {
   "cell_type": "code",
   "execution_count": 27,
   "id": "80340be9-13ba-481c-81bf-d7a791e49e9a",
   "metadata": {},
   "outputs": [
    {
     "data": {
      "text/plain": [
       "<tf.Tensor: shape=(512, 512, 3), dtype=uint8, numpy=\n",
       "array([[[189, 165, 121],\n",
       "        [185, 161, 117],\n",
       "        [181, 157, 113],\n",
       "        ...,\n",
       "        [111,  72,  33],\n",
       "        [103,  64,  25],\n",
       "        [ 94,  55,  16]],\n",
       "\n",
       "       [[186, 162, 118],\n",
       "        [183, 159, 115],\n",
       "        [180, 156, 112],\n",
       "        ...,\n",
       "        [122,  83,  40],\n",
       "        [113,  74,  31],\n",
       "        [105,  66,  23]],\n",
       "\n",
       "       [[180, 156, 112],\n",
       "        [178, 154, 110],\n",
       "        [177, 153, 109],\n",
       "        ...,\n",
       "        [132,  94,  45],\n",
       "        [124,  87,  35],\n",
       "        [120,  83,  31]],\n",
       "\n",
       "       ...,\n",
       "\n",
       "       [[207, 204, 159],\n",
       "        [205, 201, 154],\n",
       "        [204, 196, 147],\n",
       "        ...,\n",
       "        [231, 225, 191],\n",
       "        [231, 225, 189],\n",
       "        [231, 226, 188]],\n",
       "\n",
       "       [[207, 204, 159],\n",
       "        [205, 201, 154],\n",
       "        [204, 196, 147],\n",
       "        ...,\n",
       "        [230, 224, 190],\n",
       "        [230, 224, 188],\n",
       "        [229, 223, 187]],\n",
       "\n",
       "       [[206, 203, 158],\n",
       "        [204, 200, 153],\n",
       "        [203, 195, 146],\n",
       "        ...,\n",
       "        [229, 223, 189],\n",
       "        [228, 222, 186],\n",
       "        [228, 222, 186]]], dtype=uint8)>"
      ]
     },
     "execution_count": 27,
     "metadata": {},
     "output_type": "execute_result"
    }
   ],
   "source": [
    "# What does an image tensor from TFDS's Food101 look like?\n",
    "image"
   ]
  },
  {
   "cell_type": "code",
   "execution_count": 28,
   "id": "9d6708cb-dd96-4ecc-bef8-516466e62eb4",
   "metadata": {},
   "outputs": [
    {
     "data": {
      "text/plain": [
       "(<function tensorflow.python.ops.math_ops.reduce_min(input_tensor, axis=None, keepdims=False, name=None)>,\n",
       " <tf.Tensor: shape=(), dtype=uint8, numpy=255>)"
      ]
     },
     "execution_count": 28,
     "metadata": {},
     "output_type": "execute_result"
    }
   ],
   "source": [
    "tf.reduce_min, tf.reduce_max(image)"
   ]
  },
  {
   "cell_type": "code",
   "execution_count": null,
   "id": "b17c01be-d327-4e3f-a02a-1c3e3290c05f",
   "metadata": {},
   "outputs": [],
   "source": [
    "import "
   ]
  }
 ],
 "metadata": {
  "kernelspec": {
   "display_name": "Python 3 (ipykernel)",
   "language": "python",
   "name": "python3"
  },
  "language_info": {
   "codemirror_mode": {
    "name": "ipython",
    "version": 3
   },
   "file_extension": ".py",
   "mimetype": "text/x-python",
   "name": "python",
   "nbconvert_exporter": "python",
   "pygments_lexer": "ipython3",
   "version": "3.9.6"
  }
 },
 "nbformat": 4,
 "nbformat_minor": 5
}
